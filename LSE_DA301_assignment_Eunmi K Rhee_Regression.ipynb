{
 "cells": [
  {
   "cell_type": "markdown",
   "id": "ce2ac061",
   "metadata": {},
   "source": [
    "## 1. Make predictions with regression"
   ]
  },
  {
   "cell_type": "code",
   "execution_count": 1,
   "id": "7fb60ccb",
   "metadata": {
    "collapsed": true
   },
   "outputs": [
    {
     "name": "stdout",
     "output_type": "stream",
     "text": [
      "Requirement already satisfied: numpy in c:\\users\\kristina\\anaconda3\\lib\\site-packages (1.21.5)\n"
     ]
    },
    {
     "name": "stderr",
     "output_type": "stream",
     "text": [
      "WARNING: There was an error checking the latest version of pip.\n"
     ]
    },
    {
     "name": "stdout",
     "output_type": "stream",
     "text": [
      "Requirement already satisfied: pandas in c:\\users\\kristina\\anaconda3\\lib\\site-packages (1.4.2)\n",
      "Requirement already satisfied: numpy>=1.18.5 in c:\\users\\kristina\\anaconda3\\lib\\site-packages (from pandas) (1.21.5)\n",
      "Requirement already satisfied: python-dateutil>=2.8.1 in c:\\users\\kristina\\anaconda3\\lib\\site-packages (from pandas) (2.8.2)\n",
      "Requirement already satisfied: pytz>=2020.1 in c:\\users\\kristina\\anaconda3\\lib\\site-packages (from pandas) (2021.3)\n",
      "Requirement already satisfied: six>=1.5 in c:\\users\\kristina\\anaconda3\\lib\\site-packages (from python-dateutil>=2.8.1->pandas) (1.16.0)\n"
     ]
    },
    {
     "name": "stderr",
     "output_type": "stream",
     "text": [
      "WARNING: There was an error checking the latest version of pip.\n"
     ]
    },
    {
     "name": "stdout",
     "output_type": "stream",
     "text": [
      "Requirement already satisfied: statsmodels in c:\\users\\kristina\\anaconda3\\lib\\site-packages (0.13.2)\n",
      "Requirement already satisfied: numpy>=1.17 in c:\\users\\kristina\\anaconda3\\lib\\site-packages (from statsmodels) (1.21.5)\n",
      "Requirement already satisfied: scipy>=1.3 in c:\\users\\kristina\\anaconda3\\lib\\site-packages (from statsmodels) (1.7.3)\n",
      "Requirement already satisfied: pandas>=0.25 in c:\\users\\kristina\\anaconda3\\lib\\site-packages (from statsmodels) (1.4.2)\n",
      "Requirement already satisfied: patsy>=0.5.2 in c:\\users\\kristina\\anaconda3\\lib\\site-packages (from statsmodels) (0.5.2)\n",
      "Requirement already satisfied: packaging>=21.3 in c:\\users\\kristina\\anaconda3\\lib\\site-packages (from statsmodels) (21.3)\n",
      "Requirement already satisfied: pyparsing!=3.0.5,>=2.0.2 in c:\\users\\kristina\\anaconda3\\lib\\site-packages (from packaging>=21.3->statsmodels) (3.0.4)\n",
      "Requirement already satisfied: pytz>=2020.1 in c:\\users\\kristina\\anaconda3\\lib\\site-packages (from pandas>=0.25->statsmodels) (2021.3)\n",
      "Requirement already satisfied: python-dateutil>=2.8.1 in c:\\users\\kristina\\anaconda3\\lib\\site-packages (from pandas>=0.25->statsmodels) (2.8.2)\n",
      "Requirement already satisfied: six in c:\\users\\kristina\\anaconda3\\lib\\site-packages (from patsy>=0.5.2->statsmodels) (1.16.0)\n"
     ]
    },
    {
     "name": "stderr",
     "output_type": "stream",
     "text": [
      "WARNING: There was an error checking the latest version of pip.\n"
     ]
    },
    {
     "name": "stdout",
     "output_type": "stream",
     "text": [
      "Requirement already satisfied: scipy in c:\\users\\kristina\\anaconda3\\lib\\site-packages (1.7.3)\n",
      "Requirement already satisfied: numpy<1.23.0,>=1.16.5 in c:\\users\\kristina\\anaconda3\\lib\\site-packages (from scipy) (1.21.5)\n"
     ]
    },
    {
     "name": "stderr",
     "output_type": "stream",
     "text": [
      "WARNING: There was an error checking the latest version of pip.\n"
     ]
    },
    {
     "name": "stdout",
     "output_type": "stream",
     "text": [
      "Requirement already satisfied: matplotlib in c:\\users\\kristina\\anaconda3\\lib\\site-packages (3.5.1)\n",
      "Requirement already satisfied: pyparsing>=2.2.1 in c:\\users\\kristina\\anaconda3\\lib\\site-packages (from matplotlib) (3.0.4)\n",
      "Requirement already satisfied: packaging>=20.0 in c:\\users\\kristina\\anaconda3\\lib\\site-packages (from matplotlib) (21.3)\n",
      "Requirement already satisfied: pillow>=6.2.0 in c:\\users\\kristina\\anaconda3\\lib\\site-packages (from matplotlib) (9.0.1)\n",
      "Requirement already satisfied: python-dateutil>=2.7 in c:\\users\\kristina\\anaconda3\\lib\\site-packages (from matplotlib) (2.8.2)\n",
      "Requirement already satisfied: kiwisolver>=1.0.1 in c:\\users\\kristina\\anaconda3\\lib\\site-packages (from matplotlib) (1.3.2)\n",
      "Requirement already satisfied: cycler>=0.10 in c:\\users\\kristina\\anaconda3\\lib\\site-packages (from matplotlib) (0.11.0)\n",
      "Requirement already satisfied: fonttools>=4.22.0 in c:\\users\\kristina\\anaconda3\\lib\\site-packages (from matplotlib) (4.25.0)\n",
      "Requirement already satisfied: numpy>=1.17 in c:\\users\\kristina\\anaconda3\\lib\\site-packages (from matplotlib) (1.21.5)\n",
      "Requirement already satisfied: six>=1.5 in c:\\users\\kristina\\anaconda3\\lib\\site-packages (from python-dateutil>=2.7->matplotlib) (1.16.0)\n"
     ]
    },
    {
     "name": "stderr",
     "output_type": "stream",
     "text": [
      "WARNING: There was an error checking the latest version of pip.\n"
     ]
    }
   ],
   "source": [
    "# Install the necessary modules.\n",
    "!pip install numpy\n",
    "!pip install pandas\n",
    "!pip install statsmodels\n",
    "!pip install scipy\n",
    "!pip install matplotlib"
   ]
  },
  {
   "cell_type": "raw",
   "id": "33881842",
   "metadata": {},
   "source": [
    "pip install -U scikit-learn scipy matplotlib"
   ]
  },
  {
   "cell_type": "markdown",
   "id": "d4b13f13",
   "metadata": {},
   "source": [
    "### 1. Prepare workstation & Import necessary packages"
   ]
  },
  {
   "cell_type": "code",
   "execution_count": 2,
   "id": "c8be3d9d",
   "metadata": {},
   "outputs": [],
   "source": [
    "#import all the necessary packages\n",
    "import numpy as np\n",
    "import pandas as pd\n",
    "import matplotlib.pyplot as plt\n",
    "import statsmodels.api as sm\n",
    "import sklearn\n",
    "\n",
    "from sklearn import datasets \n",
    "from sklearn import linear_model\n",
    "from sklearn.model_selection import train_test_split\n",
    "from sklearn import metrics\n",
    "from sklearn.linear_model import LinearRegression\n",
    "from statsmodels.formula.api import ols"
   ]
  },
  {
   "cell_type": "markdown",
   "id": "46d1cebb",
   "metadata": {},
   "source": [
    "### 2. Import the datasets"
   ]
  },
  {
   "cell_type": "code",
   "execution_count": 3,
   "id": "ba2bf57b",
   "metadata": {},
   "outputs": [
    {
     "data": {
      "text/html": [
       "<div>\n",
       "<style scoped>\n",
       "    .dataframe tbody tr th:only-of-type {\n",
       "        vertical-align: middle;\n",
       "    }\n",
       "\n",
       "    .dataframe tbody tr th {\n",
       "        vertical-align: top;\n",
       "    }\n",
       "\n",
       "    .dataframe thead th {\n",
       "        text-align: right;\n",
       "    }\n",
       "</style>\n",
       "<table border=\"1\" class=\"dataframe\">\n",
       "  <thead>\n",
       "    <tr style=\"text-align: right;\">\n",
       "      <th></th>\n",
       "      <th>ages</th>\n",
       "      <th>list_price</th>\n",
       "      <th>num_reviews</th>\n",
       "      <th>piece_count</th>\n",
       "      <th>play_star_rating</th>\n",
       "      <th>review_difficulty</th>\n",
       "      <th>country</th>\n",
       "    </tr>\n",
       "  </thead>\n",
       "  <tbody>\n",
       "    <tr>\n",
       "      <th>0</th>\n",
       "      <td>19</td>\n",
       "      <td>29.99</td>\n",
       "      <td>2</td>\n",
       "      <td>277</td>\n",
       "      <td>4.0</td>\n",
       "      <td>0</td>\n",
       "      <td>20</td>\n",
       "    </tr>\n",
       "    <tr>\n",
       "      <th>1</th>\n",
       "      <td>19</td>\n",
       "      <td>19.99</td>\n",
       "      <td>2</td>\n",
       "      <td>168</td>\n",
       "      <td>4.0</td>\n",
       "      <td>2</td>\n",
       "      <td>20</td>\n",
       "    </tr>\n",
       "    <tr>\n",
       "      <th>2</th>\n",
       "      <td>19</td>\n",
       "      <td>12.99</td>\n",
       "      <td>11</td>\n",
       "      <td>74</td>\n",
       "      <td>4.3</td>\n",
       "      <td>2</td>\n",
       "      <td>20</td>\n",
       "    </tr>\n",
       "    <tr>\n",
       "      <th>3</th>\n",
       "      <td>5</td>\n",
       "      <td>99.99</td>\n",
       "      <td>23</td>\n",
       "      <td>1032</td>\n",
       "      <td>3.6</td>\n",
       "      <td>0</td>\n",
       "      <td>20</td>\n",
       "    </tr>\n",
       "    <tr>\n",
       "      <th>4</th>\n",
       "      <td>5</td>\n",
       "      <td>79.99</td>\n",
       "      <td>14</td>\n",
       "      <td>744</td>\n",
       "      <td>3.2</td>\n",
       "      <td>1</td>\n",
       "      <td>20</td>\n",
       "    </tr>\n",
       "  </tbody>\n",
       "</table>\n",
       "</div>"
      ],
      "text/plain": [
       "   ages  list_price  num_reviews  piece_count  play_star_rating  \\\n",
       "0    19       29.99            2          277               4.0   \n",
       "1    19       19.99            2          168               4.0   \n",
       "2    19       12.99           11           74               4.3   \n",
       "3     5       99.99           23         1032               3.6   \n",
       "4     5       79.99           14          744               3.2   \n",
       "\n",
       "   review_difficulty  country  \n",
       "0                  0       20  \n",
       "1                  2       20  \n",
       "2                  2       20  \n",
       "3                  0       20  \n",
       "4                  1       20  "
      ]
     },
     "execution_count": 3,
     "metadata": {},
     "output_type": "execute_result"
    }
   ],
   "source": [
    "# import the data set\n",
    "df = pd.read_csv(\"lego.csv\")\n",
    "\n",
    "# view DataFrame\n",
    "df.head()"
   ]
  },
  {
   "cell_type": "code",
   "execution_count": 4,
   "id": "b86a84a6",
   "metadata": {},
   "outputs": [
    {
     "name": "stdout",
     "output_type": "stream",
     "text": [
      "<class 'pandas.core.frame.DataFrame'>\n",
      "RangeIndex: 12261 entries, 0 to 12260\n",
      "Data columns (total 7 columns):\n",
      " #   Column             Non-Null Count  Dtype  \n",
      "---  ------             --------------  -----  \n",
      " 0   ages               12261 non-null  int64  \n",
      " 1   list_price         12261 non-null  float64\n",
      " 2   num_reviews        12261 non-null  int64  \n",
      " 3   piece_count        12261 non-null  int64  \n",
      " 4   play_star_rating   12261 non-null  float64\n",
      " 5   review_difficulty  12261 non-null  int64  \n",
      " 6   country            12261 non-null  int64  \n",
      "dtypes: float64(2), int64(5)\n",
      "memory usage: 670.6 KB\n"
     ]
    }
   ],
   "source": [
    "# check dataframe info\n",
    "df.info()\n"
   ]
  },
  {
   "cell_type": "code",
   "execution_count": 7,
   "id": "84789256",
   "metadata": {},
   "outputs": [
    {
     "data": {
      "text/plain": [
       "ages                 0\n",
       "list_price           0\n",
       "num_reviews          0\n",
       "piece_count          0\n",
       "play_star_rating     0\n",
       "review_difficulty    0\n",
       "country              0\n",
       "sales                0\n",
       "dtype: int64"
      ]
     },
     "execution_count": 7,
     "metadata": {},
     "output_type": "execute_result"
    }
   ],
   "source": [
    "# check number of missing values\n",
    "df.isnull().sum()\n"
   ]
  },
  {
   "cell_type": "markdown",
   "id": "aecafe75",
   "metadata": {},
   "source": [
    "### 3. Define the variables"
   ]
  },
  {
   "cell_type": "code",
   "execution_count": 8,
   "id": "d52e416a",
   "metadata": {},
   "outputs": [
    {
     "data": {
      "text/html": [
       "<div>\n",
       "<style scoped>\n",
       "    .dataframe tbody tr th:only-of-type {\n",
       "        vertical-align: middle;\n",
       "    }\n",
       "\n",
       "    .dataframe tbody tr th {\n",
       "        vertical-align: top;\n",
       "    }\n",
       "\n",
       "    .dataframe thead th {\n",
       "        text-align: right;\n",
       "    }\n",
       "</style>\n",
       "<table border=\"1\" class=\"dataframe\">\n",
       "  <thead>\n",
       "    <tr style=\"text-align: right;\">\n",
       "      <th></th>\n",
       "      <th>ages</th>\n",
       "      <th>list_price</th>\n",
       "      <th>num_reviews</th>\n",
       "      <th>piece_count</th>\n",
       "      <th>play_star_rating</th>\n",
       "      <th>review_difficulty</th>\n",
       "      <th>country</th>\n",
       "      <th>sales</th>\n",
       "    </tr>\n",
       "  </thead>\n",
       "  <tbody>\n",
       "    <tr>\n",
       "      <th>0</th>\n",
       "      <td>19</td>\n",
       "      <td>29.9900</td>\n",
       "      <td>2</td>\n",
       "      <td>277</td>\n",
       "      <td>4.0</td>\n",
       "      <td>0</td>\n",
       "      <td>20</td>\n",
       "      <td>8307.2300</td>\n",
       "    </tr>\n",
       "    <tr>\n",
       "      <th>1</th>\n",
       "      <td>19</td>\n",
       "      <td>19.9900</td>\n",
       "      <td>2</td>\n",
       "      <td>168</td>\n",
       "      <td>4.0</td>\n",
       "      <td>2</td>\n",
       "      <td>20</td>\n",
       "      <td>3358.3200</td>\n",
       "    </tr>\n",
       "    <tr>\n",
       "      <th>2</th>\n",
       "      <td>19</td>\n",
       "      <td>12.9900</td>\n",
       "      <td>11</td>\n",
       "      <td>74</td>\n",
       "      <td>4.3</td>\n",
       "      <td>2</td>\n",
       "      <td>20</td>\n",
       "      <td>961.2600</td>\n",
       "    </tr>\n",
       "    <tr>\n",
       "      <th>3</th>\n",
       "      <td>5</td>\n",
       "      <td>99.9900</td>\n",
       "      <td>23</td>\n",
       "      <td>1032</td>\n",
       "      <td>3.6</td>\n",
       "      <td>0</td>\n",
       "      <td>20</td>\n",
       "      <td>103189.6800</td>\n",
       "    </tr>\n",
       "    <tr>\n",
       "      <th>4</th>\n",
       "      <td>5</td>\n",
       "      <td>79.9900</td>\n",
       "      <td>14</td>\n",
       "      <td>744</td>\n",
       "      <td>3.2</td>\n",
       "      <td>1</td>\n",
       "      <td>20</td>\n",
       "      <td>59512.5600</td>\n",
       "    </tr>\n",
       "    <tr>\n",
       "      <th>...</th>\n",
       "      <td>...</td>\n",
       "      <td>...</td>\n",
       "      <td>...</td>\n",
       "      <td>...</td>\n",
       "      <td>...</td>\n",
       "      <td>...</td>\n",
       "      <td>...</td>\n",
       "      <td>...</td>\n",
       "    </tr>\n",
       "    <tr>\n",
       "      <th>12256</th>\n",
       "      <td>23</td>\n",
       "      <td>36.5878</td>\n",
       "      <td>6</td>\n",
       "      <td>341</td>\n",
       "      <td>4.4</td>\n",
       "      <td>2</td>\n",
       "      <td>19</td>\n",
       "      <td>12476.4398</td>\n",
       "    </tr>\n",
       "    <tr>\n",
       "      <th>12257</th>\n",
       "      <td>23</td>\n",
       "      <td>24.3878</td>\n",
       "      <td>8</td>\n",
       "      <td>217</td>\n",
       "      <td>4.1</td>\n",
       "      <td>2</td>\n",
       "      <td>19</td>\n",
       "      <td>5292.1526</td>\n",
       "    </tr>\n",
       "    <tr>\n",
       "      <th>12258</th>\n",
       "      <td>23</td>\n",
       "      <td>24.3878</td>\n",
       "      <td>18</td>\n",
       "      <td>233</td>\n",
       "      <td>4.6</td>\n",
       "      <td>2</td>\n",
       "      <td>19</td>\n",
       "      <td>5682.3574</td>\n",
       "    </tr>\n",
       "    <tr>\n",
       "      <th>12259</th>\n",
       "      <td>20</td>\n",
       "      <td>12.1878</td>\n",
       "      <td>1</td>\n",
       "      <td>48</td>\n",
       "      <td>5.0</td>\n",
       "      <td>4</td>\n",
       "      <td>19</td>\n",
       "      <td>585.0144</td>\n",
       "    </tr>\n",
       "    <tr>\n",
       "      <th>12260</th>\n",
       "      <td>20</td>\n",
       "      <td>12.1878</td>\n",
       "      <td>11</td>\n",
       "      <td>109</td>\n",
       "      <td>4.5</td>\n",
       "      <td>2</td>\n",
       "      <td>19</td>\n",
       "      <td>1328.4702</td>\n",
       "    </tr>\n",
       "  </tbody>\n",
       "</table>\n",
       "<p>12261 rows × 8 columns</p>\n",
       "</div>"
      ],
      "text/plain": [
       "       ages  list_price  num_reviews  piece_count  play_star_rating  \\\n",
       "0        19     29.9900            2          277               4.0   \n",
       "1        19     19.9900            2          168               4.0   \n",
       "2        19     12.9900           11           74               4.3   \n",
       "3         5     99.9900           23         1032               3.6   \n",
       "4         5     79.9900           14          744               3.2   \n",
       "...     ...         ...          ...          ...               ...   \n",
       "12256    23     36.5878            6          341               4.4   \n",
       "12257    23     24.3878            8          217               4.1   \n",
       "12258    23     24.3878           18          233               4.6   \n",
       "12259    20     12.1878            1           48               5.0   \n",
       "12260    20     12.1878           11          109               4.5   \n",
       "\n",
       "       review_difficulty  country        sales  \n",
       "0                      0       20    8307.2300  \n",
       "1                      2       20    3358.3200  \n",
       "2                      2       20     961.2600  \n",
       "3                      0       20  103189.6800  \n",
       "4                      1       20   59512.5600  \n",
       "...                  ...      ...          ...  \n",
       "12256                  2       19   12476.4398  \n",
       "12257                  2       19    5292.1526  \n",
       "12258                  2       19    5682.3574  \n",
       "12259                  4       19     585.0144  \n",
       "12260                  2       19    1328.4702  \n",
       "\n",
       "[12261 rows x 8 columns]"
      ]
     },
     "execution_count": 8,
     "metadata": {},
     "output_type": "execute_result"
    }
   ],
   "source": [
    "# add sales column\n",
    "df[\"sales\"]= df[\"list_price\"] * df[\"piece_count\"]\n",
    "df"
   ]
  },
  {
   "cell_type": "code",
   "execution_count": 9,
   "id": "100a03de",
   "metadata": {},
   "outputs": [],
   "source": [
    "# choose your variables\n",
    "x = df[\"piece_count\"].values.reshape(-1, 1) \n",
    "y = df[\"list_price\"].values.reshape(-1, 1)  "
   ]
  },
  {
   "cell_type": "markdown",
   "id": "b438f3e9",
   "metadata": {},
   "source": [
    "### 4. Run a linear regression"
   ]
  },
  {
   "cell_type": "code",
   "execution_count": 10,
   "id": "9d08a0a9",
   "metadata": {},
   "outputs": [],
   "source": [
    "# run linear regression\n",
    "lr = LinearRegression()"
   ]
  },
  {
   "cell_type": "code",
   "execution_count": 11,
   "id": "5298cd40",
   "metadata": {},
   "outputs": [
    {
     "data": {
      "text/plain": [
       "LinearRegression()"
      ]
     },
     "execution_count": 11,
     "metadata": {},
     "output_type": "execute_result"
    }
   ],
   "source": [
    "# fit the model \n",
    "lr.fit(x,y)"
   ]
  },
  {
   "cell_type": "code",
   "execution_count": 12,
   "id": "0c35fbdf",
   "metadata": {},
   "outputs": [
    {
     "data": {
      "text/plain": [
       "array([[20.2307598 ],\n",
       "       [19.26162524],\n",
       "       [18.58323104],\n",
       "       ...,\n",
       "       [19.68783124],\n",
       "       [18.50548707],\n",
       "       [18.50548707]])"
      ]
     },
     "execution_count": 12,
     "metadata": {},
     "output_type": "execute_result"
    }
   ],
   "source": [
    "# predict y values\n",
    "lr.predict(y)"
   ]
  },
  {
   "cell_type": "markdown",
   "id": "8b05d2fc",
   "metadata": {},
   "source": [
    "### 5. Plot a linear regression (1 variable)"
   ]
  },
  {
   "cell_type": "code",
   "execution_count": 14,
   "id": "c13704bd",
   "metadata": {},
   "outputs": [
    {
     "data": {
      "image/png": "[encoded data removed]",
      "text/plain": [
       "<Figure size 432x288 with 1 Axes>"
      ]
     },
     "metadata": {
      "needs_background": "light"
     },
     "output_type": "display_data"
    }
   ],
   "source": [
    "# Visualization\n",
    "plt.scatter(x, y, color = \"red\")\n",
    "plt.plot(x, lr.predict(x), color = \"green\")\n",
    "plt.title(\"No. Pieces vs. Price\")\n",
    "plt.xlabel(\"No. Pieces\")\n",
    "plt.ylabel(\"List price\")\n",
    "\n",
    "plt.show()"
   ]
  },
  {
   "cell_type": "markdown",
   "id": "97aab9a8",
   "metadata": {},
   "source": [
    "### 6. Run a univariate regression model"
   ]
  },
  {
   "cell_type": "code",
   "execution_count": 91,
   "id": "fc77ad2c",
   "metadata": {},
   "outputs": [
    {
     "name": "stdout",
     "output_type": "stream",
     "text": [
      "0.7562562125135581\n"
     ]
    }
   ],
   "source": [
    "# Print R-squared value of the test data.\n",
    "print(lr.score(x,y)) "
   ]
  },
  {
   "cell_type": "code",
   "execution_count": 92,
   "id": "c666056d",
   "metadata": {},
   "outputs": [
    {
     "name": "stdout",
     "output_type": "stream",
     "text": [
      "Intercept value:  [17.32432525]\n",
      "Coefficient value:  [[0.09691346]]\n"
     ]
    }
   ],
   "source": [
    "# Print the intercept value.\n",
    "print(\"Intercept value: \", lr.intercept_) \n",
    "# Print the coefficient value.\n",
    "print(\"Coefficient value: \", lr.coef_)"
   ]
  },
  {
   "cell_type": "code",
   "execution_count": 93,
   "id": "bf63a338",
   "metadata": {},
   "outputs": [
    {
     "data": {
      "text/html": [
       "<table class=\"simpletable\">\n",
       "<caption>OLS Regression Results</caption>\n",
       "<tr>\n",
       "  <th>Dep. Variable:</th>            <td>y</td>        <th>  R-squared:         </th> <td>   0.756</td> \n",
       "</tr>\n",
       "<tr>\n",
       "  <th>Model:</th>                   <td>OLS</td>       <th>  Adj. R-squared:    </th> <td>   0.756</td> \n",
       "</tr>\n",
       "<tr>\n",
       "  <th>Method:</th>             <td>Least Squares</td>  <th>  F-statistic:       </th> <td>3.804e+04</td>\n",
       "</tr>\n",
       "<tr>\n",
       "  <th>Date:</th>             <td>Fri, 01 Jul 2022</td> <th>  Prob (F-statistic):</th>  <td>  0.00</td>  \n",
       "</tr>\n",
       "<tr>\n",
       "  <th>Time:</th>                 <td>10:59:10</td>     <th>  Log-Likelihood:    </th> <td> -64182.</td> \n",
       "</tr>\n",
       "<tr>\n",
       "  <th>No. Observations:</th>      <td> 12261</td>      <th>  AIC:               </th> <td>1.284e+05</td>\n",
       "</tr>\n",
       "<tr>\n",
       "  <th>Df Residuals:</th>          <td> 12259</td>      <th>  BIC:               </th> <td>1.284e+05</td>\n",
       "</tr>\n",
       "<tr>\n",
       "  <th>Df Model:</th>              <td>     1</td>      <th>                     </th>     <td> </td>    \n",
       "</tr>\n",
       "<tr>\n",
       "  <th>Covariance Type:</th>      <td>nonrobust</td>    <th>                     </th>     <td> </td>    \n",
       "</tr>\n",
       "</table>\n",
       "<table class=\"simpletable\">\n",
       "<tr>\n",
       "      <td></td>         <th>coef</th>     <th>std err</th>      <th>t</th>      <th>P>|t|</th>  <th>[0.025</th>    <th>0.975]</th>  \n",
       "</tr>\n",
       "<tr>\n",
       "  <th>Intercept</th> <td>   17.3243</td> <td>    0.478</td> <td>   36.256</td> <td> 0.000</td> <td>   16.388</td> <td>   18.261</td>\n",
       "</tr>\n",
       "<tr>\n",
       "  <th>X</th>         <td>    0.0969</td> <td>    0.000</td> <td>  195.027</td> <td> 0.000</td> <td>    0.096</td> <td>    0.098</td>\n",
       "</tr>\n",
       "</table>\n",
       "<table class=\"simpletable\">\n",
       "<tr>\n",
       "  <th>Omnibus:</th>       <td>13987.172</td> <th>  Durbin-Watson:     </th>  <td>   1.040</td>  \n",
       "</tr>\n",
       "<tr>\n",
       "  <th>Prob(Omnibus):</th>  <td> 0.000</td>   <th>  Jarque-Bera (JB):  </th> <td>2037748.322</td>\n",
       "</tr>\n",
       "<tr>\n",
       "  <th>Skew:</th>           <td> 5.819</td>   <th>  Prob(JB):          </th>  <td>    0.00</td>  \n",
       "</tr>\n",
       "<tr>\n",
       "  <th>Kurtosis:</th>       <td>65.075</td>   <th>  Cond. No.          </th>  <td>1.12e+03</td>  \n",
       "</tr>\n",
       "</table><br/><br/>Notes:<br/>[1] Standard Errors assume that the covariance matrix of the errors is correctly specified.<br/>[2] The condition number is large, 1.12e+03. This might indicate that there are<br/>strong multicollinearity or other numerical problems."
      ],
      "text/plain": [
       "<class 'statsmodels.iolib.summary.Summary'>\n",
       "\"\"\"\n",
       "                            OLS Regression Results                            \n",
       "==============================================================================\n",
       "Dep. Variable:                      y   R-squared:                       0.756\n",
       "Model:                            OLS   Adj. R-squared:                  0.756\n",
       "Method:                 Least Squares   F-statistic:                 3.804e+04\n",
       "Date:                Fri, 01 Jul 2022   Prob (F-statistic):               0.00\n",
       "Time:                        10:59:10   Log-Likelihood:                -64182.\n",
       "No. Observations:               12261   AIC:                         1.284e+05\n",
       "Df Residuals:                   12259   BIC:                         1.284e+05\n",
       "Df Model:                           1                                         \n",
       "Covariance Type:            nonrobust                                         \n",
       "==============================================================================\n",
       "                 coef    std err          t      P>|t|      [0.025      0.975]\n",
       "------------------------------------------------------------------------------\n",
       "Intercept     17.3243      0.478     36.256      0.000      16.388      18.261\n",
       "X              0.0969      0.000    195.027      0.000       0.096       0.098\n",
       "==============================================================================\n",
       "Omnibus:                    13987.172   Durbin-Watson:                   1.040\n",
       "Prob(Omnibus):                  0.000   Jarque-Bera (JB):          2037748.322\n",
       "Skew:                           5.819   Prob(JB):                         0.00\n",
       "Kurtosis:                      65.075   Cond. No.                     1.12e+03\n",
       "==============================================================================\n",
       "\n",
       "Notes:\n",
       "[1] Standard Errors assume that the covariance matrix of the errors is correctly specified.\n",
       "[2] The condition number is large, 1.12e+03. This might indicate that there are\n",
       "strong multicollinearity or other numerical problems.\n",
       "\"\"\""
      ]
     },
     "execution_count": 93,
     "metadata": {},
     "output_type": "execute_result"
    }
   ],
   "source": [
    "f = 'y ~ X'\n",
    "test = ols(f, data = df).fit()\n",
    "\n",
    "test.summary()"
   ]
  },
  {
   "cell_type": "code",
   "execution_count": 94,
   "id": "fd940fda",
   "metadata": {},
   "outputs": [
    {
     "name": "stdout",
     "output_type": "stream",
     "text": [
      "[[792.6319753]]\n"
     ]
    }
   ],
   "source": [
    "# Use the predict() method \n",
    "price = lr.predict([[8000]])  \n",
    "\n",
    "# Print the results.\n",
    "print(price)  "
   ]
  },
  {
   "cell_type": "markdown",
   "id": "fc3ea003",
   "metadata": {},
   "source": [
    "#### <font color='green'> KR : Based on univariate linear regression price recommended is $792 for 8000 pieces </font>\n"
   ]
  },
  {
   "cell_type": "markdown",
   "id": "8bf067bd",
   "metadata": {},
   "source": [
    "### 7. Check another variable (ages)\n"
   ]
  },
  {
   "cell_type": "code",
   "execution_count": 16,
   "id": "be7c0fc9",
   "metadata": {},
   "outputs": [],
   "source": [
    "# check relations between age and price\n",
    "x = df[\"ages\"].values.reshape(-1, 1) \n",
    "y = df[\"list_price\"].values.reshape(-1, 1)  "
   ]
  },
  {
   "cell_type": "code",
   "execution_count": 17,
   "id": "7caf306f",
   "metadata": {},
   "outputs": [
    {
     "data": {
      "text/plain": [
       "LinearRegression()"
      ]
     },
     "execution_count": 17,
     "metadata": {},
     "output_type": "execute_result"
    }
   ],
   "source": [
    "# run linear regression\n",
    "lr = LinearRegression()\n",
    "\n",
    "# fit the model \n",
    "lr.fit(x,y)"
   ]
  },
  {
   "cell_type": "code",
   "execution_count": 18,
   "id": "57ba6ddb",
   "metadata": {},
   "outputs": [
    {
     "data": {
      "text/plain": [
       "array([[53.56274321],\n",
       "       [62.2678243 ],\n",
       "       [68.36138106],\n",
       "       ...,\n",
       "       [58.43950374],\n",
       "       [69.05970267],\n",
       "       [69.05970267]])"
      ]
     },
     "execution_count": 18,
     "metadata": {},
     "output_type": "execute_result"
    }
   ],
   "source": [
    "# predict y values\n",
    "lr.predict(y)"
   ]
  },
  {
   "cell_type": "code",
   "execution_count": 19,
   "id": "c493e04a",
   "metadata": {},
   "outputs": [
    {
     "data": {
      "image/png": "[encoded data removed]",
      "text/plain": [
       "<Figure size 432x288 with 1 Axes>"
      ]
     },
     "metadata": {
      "needs_background": "light"
     },
     "output_type": "display_data"
    }
   ],
   "source": [
    "# Visualization\n",
    "plt.scatter(x, y, color = \"red\")\n",
    "plt.plot(x, lr.predict(x), color = \"green\")\n",
    "plt.title(\"Ages vs. Price\")\n",
    "plt.xlabel(\"Ages\")\n",
    "plt.ylabel(\"List price\")\n",
    "\n",
    "plt.show()"
   ]
  },
  {
   "cell_type": "code",
   "execution_count": 20,
   "id": "bab3cb87",
   "metadata": {},
   "outputs": [
    {
     "name": "stdout",
     "output_type": "stream",
     "text": [
      "0.006050049767094556\n"
     ]
    }
   ],
   "source": [
    "# Print R-squared value of the test data.\n",
    "print(lr.score(x,y)) "
   ]
  },
  {
   "cell_type": "markdown",
   "id": "88ccf81e",
   "metadata": {},
   "source": [
    "#### <font color='green'> KR: Age and list price has minimal correlation of 0.6%. </font>"
   ]
  },
  {
   "cell_type": "markdown",
   "id": "432335f2",
   "metadata": {},
   "source": [
    "### 8. Mulitple linear regression (price, age and list price) "
   ]
  },
  {
   "cell_type": "code",
   "execution_count": 21,
   "id": "5efbf6fd",
   "metadata": {},
   "outputs": [
    {
     "name": "stdout",
     "output_type": "stream",
     "text": [
      "Intercept: \n",
      " 16.79547480305044\n",
      "Coefficients: \n",
      " [0.0969419  0.03084905]\n",
      "Pred: \n",
      " [793.25612181]\n"
     ]
    },
    {
     "name": "stderr",
     "output_type": "stream",
     "text": [
      "C:\\Users\\Kristina\\anaconda3\\lib\\site-packages\\sklearn\\base.py:450: UserWarning: X does not have valid feature names, but LinearRegression was fitted with feature names\n",
      "  warnings.warn(\n"
     ]
    }
   ],
   "source": [
    "x = df[['piece_count','ages']] #  2 variables for multiple regression. \n",
    "y = df['list_price']\n",
    " \n",
    "# with sklearn\n",
    "regr = linear_model.LinearRegression()\n",
    "regr.fit(x, y)\n",
    "\n",
    "print('Intercept: \\n', regr.intercept_)\n",
    "print('Coefficients: \\n', regr.coef_)\n",
    "\n",
    "# prediction with sklearn\n",
    "new_pieces = 8000\n",
    "new_age = 30\n",
    "print ('Pred: \\n', regr.predict([[new_pieces ,new_age]]))\n",
    "\n"
   ]
  },
  {
   "cell_type": "markdown",
   "id": "af8a4d33",
   "metadata": {},
   "source": [
    "#### <font color='green'> KR: To recommend $793 for 8000 lego pieces and 30 year old customers. Having said that, customer age has little correlation on determining price.</font>"
   ]
  },
  {
   "cell_type": "code",
   "execution_count": 22,
   "id": "e144a978",
   "metadata": {},
   "outputs": [
    {
     "name": "stdout",
     "output_type": "stream",
     "text": [
      "                            OLS Regression Results                            \n",
      "==============================================================================\n",
      "Dep. Variable:             list_price   R-squared:                       0.756\n",
      "Model:                            OLS   Adj. R-squared:                  0.756\n",
      "Method:                 Least Squares   F-statistic:                 1.902e+04\n",
      "Date:                Sun, 10 Jul 2022   Prob (F-statistic):               0.00\n",
      "Time:                        06:46:19   Log-Likelihood:                -64182.\n",
      "No. Observations:               12261   AIC:                         1.284e+05\n",
      "Df Residuals:                   12258   BIC:                         1.284e+05\n",
      "Df Model:                           2                                         \n",
      "Covariance Type:            nonrobust                                         \n",
      "===============================================================================\n",
      "                  coef    std err          t      P>|t|      [0.025      0.975]\n",
      "-------------------------------------------------------------------------------\n",
      "const          16.7955      0.983     17.083      0.000      14.868      18.723\n",
      "piece_count     0.0969      0.000    194.242      0.000       0.096       0.098\n",
      "ages            0.0308      0.050      0.616      0.538      -0.067       0.129\n",
      "==============================================================================\n",
      "Omnibus:                    13994.599   Durbin-Watson:                   1.039\n",
      "Prob(Omnibus):                  0.000   Jarque-Bera (JB):          2039073.950\n",
      "Skew:                           5.825   Prob(JB):                         0.00\n",
      "Kurtosis:                      65.094   Cond. No.                     2.31e+03\n",
      "==============================================================================\n",
      "\n",
      "Notes:\n",
      "[1] Standard Errors assume that the covariance matrix of the errors is correctly specified.\n",
      "[2] The condition number is large, 2.31e+03. This might indicate that there are\n",
      "strong multicollinearity or other numerical problems.\n"
     ]
    }
   ],
   "source": [
    "# with statsmodels\n",
    "x = sm.add_constant(x) # adding a constant\n",
    " \n",
    "model = sm.OLS(y, x).fit()\n",
    "predictions = model.predict(x) \n",
    " \n",
    "print_model = model.summary()\n",
    "print(print_model)"
   ]
  }
 ],
 "metadata": {
  "kernelspec": {
   "display_name": "Python 3 (ipykernel)",
   "language": "python",
   "name": "python3"
  },
  "language_info": {
   "codemirror_mode": {
    "name": "ipython",
    "version": 3
   },
   "file_extension": ".py",
   "mimetype": "text/x-python",
   "name": "python",
   "nbconvert_exporter": "python",
   "pygments_lexer": "ipython3",
   "version": "3.9.12"
  }
 },
 "nbformat": 4,
 "nbformat_minor": 5
}
