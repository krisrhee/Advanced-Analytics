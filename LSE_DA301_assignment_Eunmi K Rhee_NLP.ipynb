{
 "cells": [
  {
   "cell_type": "markdown",
   "id": "18a3c23b",
   "metadata": {},
   "source": [
    "## 2. Analyze customer sentiment with NLP"
   ]
  },
  {
   "cell_type": "markdown",
   "id": "87775d87",
   "metadata": {},
   "source": [
    "### 1. Prepare workstation"
   ]
  },
  {
   "cell_type": "code",
   "execution_count": null,
   "id": "eef203ca",
   "metadata": {},
   "outputs": [],
   "source": [
    "# install NLTK library\n",
    "!pip install nltk\n",
    "\n",
    "# Install vaderSentiment tool\n",
    "!pip install VaderSentiment\n"
   ]
  },
  {
   "cell_type": "code",
   "execution_count": 35,
   "id": "3a6b8193",
   "metadata": {
    "collapsed": true
   },
   "outputs": [
    {
     "name": "stdout",
     "output_type": "stream",
     "text": [
      "Requirement already satisfied: textblob in c:\\users\\kristina\\anaconda3\\lib\\site-packages (0.17.1)\n",
      "Requirement already satisfied: nltk>=3.1 in c:\\users\\kristina\\anaconda3\\lib\\site-packages (from textblob) (3.7)\n",
      "Requirement already satisfied: click in c:\\users\\kristina\\anaconda3\\lib\\site-packages (from nltk>=3.1->textblob) (8.0.4)\n",
      "Requirement already satisfied: regex>=2021.8.3 in c:\\users\\kristina\\anaconda3\\lib\\site-packages (from nltk>=3.1->textblob) (2022.3.15)\n",
      "Requirement already satisfied: joblib in c:\\users\\kristina\\anaconda3\\lib\\site-packages (from nltk>=3.1->textblob) (1.1.0)\n",
      "Requirement already satisfied: tqdm in c:\\users\\kristina\\anaconda3\\lib\\site-packages (from nltk>=3.1->textblob) (4.64.0)\n",
      "Requirement already satisfied: colorama in c:\\users\\kristina\\anaconda3\\lib\\site-packages (from click->nltk>=3.1->textblob) (0.4.4)\n"
     ]
    },
    {
     "name": "stderr",
     "output_type": "stream",
     "text": [
      "WARNING: There was an error checking the latest version of pip.\n"
     ]
    }
   ],
   "source": [
    "# Install textblob\n",
    "!pip install textblob"
   ]
  },
  {
   "cell_type": "code",
   "execution_count": 3,
   "id": "ef0b60cf",
   "metadata": {},
   "outputs": [
    {
     "name": "stderr",
     "output_type": "stream",
     "text": [
      "[nltk_data] Downloading package punkt to\n",
      "[nltk_data]     C:\\Users\\Kristina\\AppData\\Roaming\\nltk_data...\n",
      "[nltk_data]   Package punkt is already up-to-date!\n"
     ]
    }
   ],
   "source": [
    "# Import all necessary libraries.\n",
    "import nltk\n",
    "\n",
    "# Install the required tokenisation model.\n",
    "nltk.download('punkt')\n",
    "\n",
    "# Install the required tokenisation function.\n",
    "from nltk.tokenize import sent_tokenize"
   ]
  },
  {
   "cell_type": "code",
   "execution_count": 5,
   "id": "8c6d6ea7",
   "metadata": {},
   "outputs": [],
   "source": [
    "import re\n",
    "import os\n",
    "import sys\n",
    "import pandas as pd\n",
    "import numpy as np\n",
    "import matplotlib.pyplot as plt\n",
    "import seaborn as sns"
   ]
  },
  {
   "cell_type": "markdown",
   "id": "52e6b29a",
   "metadata": {},
   "source": [
    "### 2. Data Preprocessing"
   ]
  },
  {
   "cell_type": "code",
   "execution_count": 6,
   "id": "45503f76",
   "metadata": {},
   "outputs": [
    {
     "data": {
      "text/html": [
       "<div>\n",
       "<style scoped>\n",
       "    .dataframe tbody tr th:only-of-type {\n",
       "        vertical-align: middle;\n",
       "    }\n",
       "\n",
       "    .dataframe tbody tr th {\n",
       "        vertical-align: top;\n",
       "    }\n",
       "\n",
       "    .dataframe thead th {\n",
       "        text-align: right;\n",
       "    }\n",
       "</style>\n",
       "<table border=\"1\" class=\"dataframe\">\n",
       "  <thead>\n",
       "    <tr style=\"text-align: right;\">\n",
       "      <th></th>\n",
       "      <th>overall</th>\n",
       "      <th>verified</th>\n",
       "      <th>reviewTime</th>\n",
       "      <th>reviewerID</th>\n",
       "      <th>reviewerName</th>\n",
       "      <th>reviewText</th>\n",
       "      <th>summary</th>\n",
       "      <th>unixReviewTime</th>\n",
       "      <th>image</th>\n",
       "    </tr>\n",
       "  </thead>\n",
       "  <tbody>\n",
       "    <tr>\n",
       "      <th>0</th>\n",
       "      <td>2</td>\n",
       "      <td>False</td>\n",
       "      <td>09 22, 2016</td>\n",
       "      <td>A1IDMI31WEANAF</td>\n",
       "      <td>Mackenzie Kent</td>\n",
       "      <td>When it comes to a DM's screen, the space on t...</td>\n",
       "      <td>The fact that 50% of this space is wasted on a...</td>\n",
       "      <td>1474502400</td>\n",
       "      <td>NaN</td>\n",
       "    </tr>\n",
       "    <tr>\n",
       "      <th>1</th>\n",
       "      <td>1</td>\n",
       "      <td>False</td>\n",
       "      <td>09 18, 2016</td>\n",
       "      <td>A4BCEVVZ4Y3V3</td>\n",
       "      <td>Jonathan Christian</td>\n",
       "      <td>An Open Letter to GaleForce9*:\\n\\nYour unpaint...</td>\n",
       "      <td>Another worthless Dungeon Master's screen from...</td>\n",
       "      <td>1474156800</td>\n",
       "      <td>NaN</td>\n",
       "    </tr>\n",
       "    <tr>\n",
       "      <th>2</th>\n",
       "      <td>3</td>\n",
       "      <td>True</td>\n",
       "      <td>09 12, 2016</td>\n",
       "      <td>A2EZ9PY1IHHBX0</td>\n",
       "      <td>unpreparedtodie</td>\n",
       "      <td>Nice art, nice printing.  Why two panels are f...</td>\n",
       "      <td>pretty, but also pretty useless</td>\n",
       "      <td>1473638400</td>\n",
       "      <td>NaN</td>\n",
       "    </tr>\n",
       "    <tr>\n",
       "      <th>3</th>\n",
       "      <td>5</td>\n",
       "      <td>True</td>\n",
       "      <td>03 02, 2017</td>\n",
       "      <td>A139PXTTC2LGHZ</td>\n",
       "      <td>Ashley</td>\n",
       "      <td>Amazing buy! Bought it as a gift for our new d...</td>\n",
       "      <td>Five Stars</td>\n",
       "      <td>1488412800</td>\n",
       "      <td>NaN</td>\n",
       "    </tr>\n",
       "    <tr>\n",
       "      <th>4</th>\n",
       "      <td>1</td>\n",
       "      <td>True</td>\n",
       "      <td>02 08, 2017</td>\n",
       "      <td>A3IB33V29XIL8O</td>\n",
       "      <td>Oghma_EM</td>\n",
       "      <td>As my review of GF9's previous screens these w...</td>\n",
       "      <td>Money trap</td>\n",
       "      <td>1486512000</td>\n",
       "      <td>NaN</td>\n",
       "    </tr>\n",
       "  </tbody>\n",
       "</table>\n",
       "</div>"
      ],
      "text/plain": [
       "   overall  verified   reviewTime      reviewerID        reviewerName  \\\n",
       "0        2     False  09 22, 2016  A1IDMI31WEANAF      Mackenzie Kent   \n",
       "1        1     False  09 18, 2016   A4BCEVVZ4Y3V3  Jonathan Christian   \n",
       "2        3      True  09 12, 2016  A2EZ9PY1IHHBX0     unpreparedtodie   \n",
       "3        5      True  03 02, 2017  A139PXTTC2LGHZ              Ashley   \n",
       "4        1      True  02 08, 2017  A3IB33V29XIL8O            Oghma_EM   \n",
       "\n",
       "                                          reviewText  \\\n",
       "0  When it comes to a DM's screen, the space on t...   \n",
       "1  An Open Letter to GaleForce9*:\\n\\nYour unpaint...   \n",
       "2  Nice art, nice printing.  Why two panels are f...   \n",
       "3  Amazing buy! Bought it as a gift for our new d...   \n",
       "4  As my review of GF9's previous screens these w...   \n",
       "\n",
       "                                             summary  unixReviewTime image  \n",
       "0  The fact that 50% of this space is wasted on a...      1474502400   NaN  \n",
       "1  Another worthless Dungeon Master's screen from...      1474156800   NaN  \n",
       "2                    pretty, but also pretty useless      1473638400   NaN  \n",
       "3                                         Five Stars      1488412800   NaN  \n",
       "4                                         Money trap      1486512000   NaN  "
      ]
     },
     "execution_count": 6,
     "metadata": {},
     "output_type": "execute_result"
    }
   ],
   "source": [
    "df= pd.read_csv('game_reviews.csv')\n",
    "df.head()"
   ]
  },
  {
   "cell_type": "code",
   "execution_count": 7,
   "id": "13629bfb",
   "metadata": {},
   "outputs": [
    {
     "data": {
      "text/plain": [
       "(15000, 9)"
      ]
     },
     "execution_count": 7,
     "metadata": {},
     "output_type": "execute_result"
    }
   ],
   "source": [
    "df.shape"
   ]
  },
  {
   "cell_type": "code",
   "execution_count": 8,
   "id": "8621d763",
   "metadata": {},
   "outputs": [
    {
     "name": "stdout",
     "output_type": "stream",
     "text": [
      "<class 'pandas.core.frame.DataFrame'>\n",
      "RangeIndex: 15000 entries, 0 to 14999\n",
      "Data columns (total 9 columns):\n",
      " #   Column          Non-Null Count  Dtype \n",
      "---  ------          --------------  ----- \n",
      " 0   overall         15000 non-null  int64 \n",
      " 1   verified        15000 non-null  bool  \n",
      " 2   reviewTime      15000 non-null  object\n",
      " 3   reviewerID      15000 non-null  object\n",
      " 4   reviewerName    15000 non-null  object\n",
      " 5   reviewText      14990 non-null  object\n",
      " 6   summary         14998 non-null  object\n",
      " 7   unixReviewTime  15000 non-null  int64 \n",
      " 8   image           160 non-null    object\n",
      "dtypes: bool(1), int64(2), object(6)\n",
      "memory usage: 952.3+ KB\n"
     ]
    }
   ],
   "source": [
    "df.info()"
   ]
  },
  {
   "cell_type": "code",
   "execution_count": 9,
   "id": "d6beb690",
   "metadata": {},
   "outputs": [],
   "source": [
    "# Dropping null values\n",
    "df1=df\n"
   ]
  },
  {
   "cell_type": "code",
   "execution_count": 150,
   "id": "61f4137a",
   "metadata": {},
   "outputs": [
    {
     "data": {
      "text/plain": [
       "5    11576\n",
       "4     1836\n",
       "3      727\n",
       "1      503\n",
       "2      358\n",
       "Name: overall, dtype: int64"
      ]
     },
     "execution_count": 150,
     "metadata": {},
     "output_type": "execute_result"
    }
   ],
   "source": [
    "df1['overall'].value_counts()"
   ]
  },
  {
   "cell_type": "code",
   "execution_count": 10,
   "id": "0bd7ecd6",
   "metadata": {},
   "outputs": [
    {
     "data": {
      "text/plain": [
       "5    77.173333\n",
       "4    12.240000\n",
       "3     4.846667\n",
       "1     3.353333\n",
       "2     2.386667\n",
       "Name: overall, dtype: float64"
      ]
     },
     "execution_count": 10,
     "metadata": {},
     "output_type": "execute_result"
    }
   ],
   "source": [
    "df1['overall'].value_counts(normalize=True) * 100"
   ]
  },
  {
   "cell_type": "code",
   "execution_count": 11,
   "id": "a593b8c7",
   "metadata": {},
   "outputs": [
    {
     "data": {
      "text/plain": [
       "<AxesSubplot:xlabel='overall', ylabel='count'>"
      ]
     },
     "execution_count": 11,
     "metadata": {},
     "output_type": "execute_result"
    },
    {
     "data": {
      "image/png": "[encoded data removed]",
      "text/plain": [
       "<Figure size 432x288 with 1 Axes>"
      ]
     },
     "metadata": {
      "needs_background": "light"
     },
     "output_type": "display_data"
    }
   ],
   "source": [
    "sns.countplot(data=df1, x='overall')"
   ]
  },
  {
   "cell_type": "markdown",
   "id": "8e899794",
   "metadata": {},
   "source": [
    "#### <font color='green'> KR : 89% of respondents gave 4 or 5s, if we add '3s' 94% gave positive responses  </font>\n"
   ]
  },
  {
   "cell_type": "markdown",
   "id": "539a8b9d",
   "metadata": {},
   "source": [
    "### 3. Data Preprocessing"
   ]
  },
  {
   "cell_type": "code",
   "execution_count": 12,
   "id": "142fbf73",
   "metadata": {},
   "outputs": [],
   "source": [
    "from textblob import TextBlob\n",
    "from textblob import Word\n",
    "from nltk.corpus import stopwords"
   ]
  },
  {
   "cell_type": "markdown",
   "id": "e0b60e5a",
   "metadata": {},
   "source": [
    "### A. Lower casing and removing punctuations"
   ]
  },
  {
   "cell_type": "code",
   "execution_count": 13,
   "id": "944717f6",
   "metadata": {},
   "outputs": [],
   "source": [
    "df1['Text1'] =df1['reviewText'].apply(lambda x:\" \".join(x.lower() for x in str(x).split()))\n"
   ]
  },
  {
   "cell_type": "code",
   "execution_count": 14,
   "id": "615f2351",
   "metadata": {},
   "outputs": [
    {
     "name": "stderr",
     "output_type": "stream",
     "text": [
      "C:\\Users\\Kristina\\AppData\\Local\\Temp\\ipykernel_5540\\1311721190.py:1: FutureWarning: The default value of regex will change from True to False in a future version.\n",
      "  df1['Text1'] =df1['Text1'].str.replace('[^\\w\\s]',\"\")\n"
     ]
    }
   ],
   "source": [
    "df1['Text1'] =df1['Text1'].str.replace('[^\\w\\s]',\"\")"
   ]
  },
  {
   "cell_type": "code",
   "execution_count": 15,
   "id": "f33aaba3",
   "metadata": {},
   "outputs": [
    {
     "data": {
      "text/plain": [
       "0    when it comes to a dms screen the space on the...\n",
       "1    an open letter to galeforce9 your unpainted mi...\n",
       "2    nice art nice printing why two panels are fill...\n",
       "3    amazing buy bought it as a gift for our new dm...\n",
       "4    as my review of gf9s previous screens these we...\n",
       "Name: Text1, dtype: object"
      ]
     },
     "execution_count": 15,
     "metadata": {},
     "output_type": "execute_result"
    }
   ],
   "source": [
    "#checking text\n",
    "\n",
    "df1['Text1'].head()"
   ]
  },
  {
   "cell_type": "markdown",
   "id": "5bbc9c55",
   "metadata": {},
   "source": [
    "### B. Removal of stop words"
   ]
  },
  {
   "cell_type": "code",
   "execution_count": 16,
   "id": "a0f17437",
   "metadata": {},
   "outputs": [
    {
     "data": {
      "text/plain": [
       "0    comes dms screen space screen absolute premium...\n",
       "1    open letter galeforce9 unpainted miniatures ba...\n",
       "2    nice art nice printing two panels filled gener...\n",
       "3               amazing buy bought gift new dm perfect\n",
       "4    review gf9s previous screens completely unnece...\n",
       "Name: Text1, dtype: object"
      ]
     },
     "execution_count": 16,
     "metadata": {},
     "output_type": "execute_result"
    }
   ],
   "source": [
    "stop=stopwords.words('english')\n",
    "df1['Text1']=df1['Text1'].apply(lambda x: \" \".join(x for x in str(x).split() if x not in stop))\n",
    "df1['Text1'].head()"
   ]
  },
  {
   "cell_type": "markdown",
   "id": "5adbb38f",
   "metadata": {},
   "source": [
    "### C. Lemmatization"
   ]
  },
  {
   "cell_type": "code",
   "execution_count": 17,
   "id": "9c211c17",
   "metadata": {},
   "outputs": [
    {
     "data": {
      "text/plain": [
       "0    come dm screen space screen absolute premium f...\n",
       "1    open letter galeforce9 unpainted miniature bad...\n",
       "2    nice art nice printing two panel filled genera...\n",
       "3               amazing buy bought gift new dm perfect\n",
       "4    review gf9s previous screen completely unneces...\n",
       "Name: Text1, dtype: object"
      ]
     },
     "execution_count": 17,
     "metadata": {},
     "output_type": "execute_result"
    }
   ],
   "source": [
    "df1['Text1']=df1['Text1'].apply(lambda x: \" \".join([Word(word).lemmatize() for word in str(x).split()]))\n",
    "df1['Text1'].head()"
   ]
  },
  {
   "cell_type": "code",
   "execution_count": 18,
   "id": "6664f012",
   "metadata": {},
   "outputs": [
    {
     "data": {
      "text/plain": [
       "(15000, 10)"
      ]
     },
     "execution_count": 18,
     "metadata": {},
     "output_type": "execute_result"
    }
   ],
   "source": [
    "df1.shape"
   ]
  },
  {
   "cell_type": "markdown",
   "id": "2fa08b54",
   "metadata": {},
   "source": [
    "### 4. Sentiment score"
   ]
  },
  {
   "cell_type": "code",
   "execution_count": null,
   "id": "0a678241",
   "metadata": {},
   "outputs": [],
   "source": [
    "# Sentiment analysis: Pretrained model takes input from the text description and outputs the sentiment score ranging \n",
    "# from -1 to +1 for each sentince\n"
   ]
  },
  {
   "cell_type": "code",
   "execution_count": 19,
   "id": "cf1d27af",
   "metadata": {},
   "outputs": [],
   "source": [
    "# Import the necessary class.\n",
    "from vaderSentiment.vaderSentiment import SentimentIntensityAnalyzer\n",
    "\n",
    "# Create an object from the class.\n",
    "analyzer = SentimentIntensityAnalyzer()"
   ]
  },
  {
   "cell_type": "code",
   "execution_count": 20,
   "id": "debef363",
   "metadata": {},
   "outputs": [
    {
     "data": {
      "text/html": [
       "<div>\n",
       "<style scoped>\n",
       "    .dataframe tbody tr th:only-of-type {\n",
       "        vertical-align: middle;\n",
       "    }\n",
       "\n",
       "    .dataframe tbody tr th {\n",
       "        vertical-align: top;\n",
       "    }\n",
       "\n",
       "    .dataframe thead th {\n",
       "        text-align: right;\n",
       "    }\n",
       "</style>\n",
       "<table border=\"1\" class=\"dataframe\">\n",
       "  <thead>\n",
       "    <tr style=\"text-align: right;\">\n",
       "      <th></th>\n",
       "      <th>neg</th>\n",
       "      <th>neu</th>\n",
       "      <th>pos</th>\n",
       "      <th>compound</th>\n",
       "    </tr>\n",
       "  </thead>\n",
       "  <tbody>\n",
       "    <tr>\n",
       "      <th>0</th>\n",
       "      <td>0.310</td>\n",
       "      <td>0.646</td>\n",
       "      <td>0.044</td>\n",
       "      <td>-0.9152</td>\n",
       "    </tr>\n",
       "    <tr>\n",
       "      <th>1</th>\n",
       "      <td>0.204</td>\n",
       "      <td>0.544</td>\n",
       "      <td>0.252</td>\n",
       "      <td>0.7020</td>\n",
       "    </tr>\n",
       "    <tr>\n",
       "      <th>2</th>\n",
       "      <td>0.191</td>\n",
       "      <td>0.578</td>\n",
       "      <td>0.231</td>\n",
       "      <td>0.6606</td>\n",
       "    </tr>\n",
       "    <tr>\n",
       "      <th>3</th>\n",
       "      <td>0.000</td>\n",
       "      <td>0.278</td>\n",
       "      <td>0.722</td>\n",
       "      <td>0.8860</td>\n",
       "    </tr>\n",
       "    <tr>\n",
       "      <th>4</th>\n",
       "      <td>0.370</td>\n",
       "      <td>0.630</td>\n",
       "      <td>0.000</td>\n",
       "      <td>-0.7063</td>\n",
       "    </tr>\n",
       "    <tr>\n",
       "      <th>...</th>\n",
       "      <td>...</td>\n",
       "      <td>...</td>\n",
       "      <td>...</td>\n",
       "      <td>...</td>\n",
       "    </tr>\n",
       "    <tr>\n",
       "      <th>14995</th>\n",
       "      <td>0.529</td>\n",
       "      <td>0.471</td>\n",
       "      <td>0.000</td>\n",
       "      <td>-0.8399</td>\n",
       "    </tr>\n",
       "    <tr>\n",
       "      <th>14996</th>\n",
       "      <td>0.000</td>\n",
       "      <td>0.377</td>\n",
       "      <td>0.623</td>\n",
       "      <td>0.7650</td>\n",
       "    </tr>\n",
       "    <tr>\n",
       "      <th>14997</th>\n",
       "      <td>0.000</td>\n",
       "      <td>1.000</td>\n",
       "      <td>0.000</td>\n",
       "      <td>0.0000</td>\n",
       "    </tr>\n",
       "    <tr>\n",
       "      <th>14998</th>\n",
       "      <td>0.000</td>\n",
       "      <td>0.615</td>\n",
       "      <td>0.385</td>\n",
       "      <td>0.3612</td>\n",
       "    </tr>\n",
       "    <tr>\n",
       "      <th>14999</th>\n",
       "      <td>0.000</td>\n",
       "      <td>0.765</td>\n",
       "      <td>0.235</td>\n",
       "      <td>0.8219</td>\n",
       "    </tr>\n",
       "  </tbody>\n",
       "</table>\n",
       "<p>15000 rows × 4 columns</p>\n",
       "</div>"
      ],
      "text/plain": [
       "         neg    neu    pos  compound\n",
       "0      0.310  0.646  0.044   -0.9152\n",
       "1      0.204  0.544  0.252    0.7020\n",
       "2      0.191  0.578  0.231    0.6606\n",
       "3      0.000  0.278  0.722    0.8860\n",
       "4      0.370  0.630  0.000   -0.7063\n",
       "...      ...    ...    ...       ...\n",
       "14995  0.529  0.471  0.000   -0.8399\n",
       "14996  0.000  0.377  0.623    0.7650\n",
       "14997  0.000  1.000  0.000    0.0000\n",
       "14998  0.000  0.615  0.385    0.3612\n",
       "14999  0.000  0.765  0.235    0.8219\n",
       "\n",
       "[15000 rows x 4 columns]"
      ]
     },
     "execution_count": 20,
     "metadata": {},
     "output_type": "execute_result"
    }
   ],
   "source": [
    "# Generating sentiment for all the sentence present in the dataset\n",
    "emptyline=[]\n",
    "for row in df1['Text1']:\n",
    "    vs = analyzer.polarity_scores(row)\n",
    "    emptyline.append(vs)\n",
    "    \n",
    "#Creating new dataframe with sentiments\n",
    "df1_sentiments = pd.DataFrame(emptyline)\n",
    "df1_sentiments"
   ]
  },
  {
   "cell_type": "code",
   "execution_count": 21,
   "id": "bc33bc4c",
   "metadata": {},
   "outputs": [
    {
     "data": {
      "text/html": [
       "<div>\n",
       "<style scoped>\n",
       "    .dataframe tbody tr th:only-of-type {\n",
       "        vertical-align: middle;\n",
       "    }\n",
       "\n",
       "    .dataframe tbody tr th {\n",
       "        vertical-align: top;\n",
       "    }\n",
       "\n",
       "    .dataframe thead th {\n",
       "        text-align: right;\n",
       "    }\n",
       "</style>\n",
       "<table border=\"1\" class=\"dataframe\">\n",
       "  <thead>\n",
       "    <tr style=\"text-align: right;\">\n",
       "      <th></th>\n",
       "      <th>overall</th>\n",
       "      <th>verified</th>\n",
       "      <th>reviewTime</th>\n",
       "      <th>reviewerID</th>\n",
       "      <th>reviewerName</th>\n",
       "      <th>reviewText</th>\n",
       "      <th>summary</th>\n",
       "      <th>unixReviewTime</th>\n",
       "      <th>image</th>\n",
       "      <th>Text1</th>\n",
       "      <th>neg</th>\n",
       "      <th>neu</th>\n",
       "      <th>pos</th>\n",
       "      <th>compound</th>\n",
       "    </tr>\n",
       "  </thead>\n",
       "  <tbody>\n",
       "    <tr>\n",
       "      <th>0</th>\n",
       "      <td>2</td>\n",
       "      <td>False</td>\n",
       "      <td>09 22, 2016</td>\n",
       "      <td>A1IDMI31WEANAF</td>\n",
       "      <td>Mackenzie Kent</td>\n",
       "      <td>When it comes to a DM's screen, the space on t...</td>\n",
       "      <td>The fact that 50% of this space is wasted on a...</td>\n",
       "      <td>1474502400</td>\n",
       "      <td>NaN</td>\n",
       "      <td>come dm screen space screen absolute premium f...</td>\n",
       "      <td>0.310</td>\n",
       "      <td>0.646</td>\n",
       "      <td>0.044</td>\n",
       "      <td>-0.9152</td>\n",
       "    </tr>\n",
       "    <tr>\n",
       "      <th>1</th>\n",
       "      <td>1</td>\n",
       "      <td>False</td>\n",
       "      <td>09 18, 2016</td>\n",
       "      <td>A4BCEVVZ4Y3V3</td>\n",
       "      <td>Jonathan Christian</td>\n",
       "      <td>An Open Letter to GaleForce9*:\\n\\nYour unpaint...</td>\n",
       "      <td>Another worthless Dungeon Master's screen from...</td>\n",
       "      <td>1474156800</td>\n",
       "      <td>NaN</td>\n",
       "      <td>open letter galeforce9 unpainted miniature bad...</td>\n",
       "      <td>0.204</td>\n",
       "      <td>0.544</td>\n",
       "      <td>0.252</td>\n",
       "      <td>0.7020</td>\n",
       "    </tr>\n",
       "    <tr>\n",
       "      <th>2</th>\n",
       "      <td>3</td>\n",
       "      <td>True</td>\n",
       "      <td>09 12, 2016</td>\n",
       "      <td>A2EZ9PY1IHHBX0</td>\n",
       "      <td>unpreparedtodie</td>\n",
       "      <td>Nice art, nice printing.  Why two panels are f...</td>\n",
       "      <td>pretty, but also pretty useless</td>\n",
       "      <td>1473638400</td>\n",
       "      <td>NaN</td>\n",
       "      <td>nice art nice printing two panel filled genera...</td>\n",
       "      <td>0.191</td>\n",
       "      <td>0.578</td>\n",
       "      <td>0.231</td>\n",
       "      <td>0.6606</td>\n",
       "    </tr>\n",
       "    <tr>\n",
       "      <th>3</th>\n",
       "      <td>5</td>\n",
       "      <td>True</td>\n",
       "      <td>03 02, 2017</td>\n",
       "      <td>A139PXTTC2LGHZ</td>\n",
       "      <td>Ashley</td>\n",
       "      <td>Amazing buy! Bought it as a gift for our new d...</td>\n",
       "      <td>Five Stars</td>\n",
       "      <td>1488412800</td>\n",
       "      <td>NaN</td>\n",
       "      <td>amazing buy bought gift new dm perfect</td>\n",
       "      <td>0.000</td>\n",
       "      <td>0.278</td>\n",
       "      <td>0.722</td>\n",
       "      <td>0.8860</td>\n",
       "    </tr>\n",
       "    <tr>\n",
       "      <th>4</th>\n",
       "      <td>1</td>\n",
       "      <td>True</td>\n",
       "      <td>02 08, 2017</td>\n",
       "      <td>A3IB33V29XIL8O</td>\n",
       "      <td>Oghma_EM</td>\n",
       "      <td>As my review of GF9's previous screens these w...</td>\n",
       "      <td>Money trap</td>\n",
       "      <td>1486512000</td>\n",
       "      <td>NaN</td>\n",
       "      <td>review gf9s previous screen completely unneces...</td>\n",
       "      <td>0.370</td>\n",
       "      <td>0.630</td>\n",
       "      <td>0.000</td>\n",
       "      <td>-0.7063</td>\n",
       "    </tr>\n",
       "    <tr>\n",
       "      <th>...</th>\n",
       "      <td>...</td>\n",
       "      <td>...</td>\n",
       "      <td>...</td>\n",
       "      <td>...</td>\n",
       "      <td>...</td>\n",
       "      <td>...</td>\n",
       "      <td>...</td>\n",
       "      <td>...</td>\n",
       "      <td>...</td>\n",
       "      <td>...</td>\n",
       "      <td>...</td>\n",
       "      <td>...</td>\n",
       "      <td>...</td>\n",
       "      <td>...</td>\n",
       "    </tr>\n",
       "    <tr>\n",
       "      <th>14995</th>\n",
       "      <td>1</td>\n",
       "      <td>True</td>\n",
       "      <td>04 17, 2018</td>\n",
       "      <td>ADATAE3XW8VNV</td>\n",
       "      <td>alona</td>\n",
       "      <td>Garbage.  Broke after 1 use.  Absolutely ridic...</td>\n",
       "      <td>Paid for garbage</td>\n",
       "      <td>1523923200</td>\n",
       "      <td>NaN</td>\n",
       "      <td>garbage broke 1 use absolutely ridiculous shre...</td>\n",
       "      <td>0.529</td>\n",
       "      <td>0.471</td>\n",
       "      <td>0.000</td>\n",
       "      <td>-0.8399</td>\n",
       "    </tr>\n",
       "    <tr>\n",
       "      <th>14996</th>\n",
       "      <td>5</td>\n",
       "      <td>True</td>\n",
       "      <td>04 17, 2018</td>\n",
       "      <td>A307KULAQ7O4QV</td>\n",
       "      <td>gsasse</td>\n",
       "      <td>Our granddaughter loves these as part of her b...</td>\n",
       "      <td>Five Stars</td>\n",
       "      <td>1523923200</td>\n",
       "      <td>NaN</td>\n",
       "      <td>granddaughter love part bath time play</td>\n",
       "      <td>0.000</td>\n",
       "      <td>0.377</td>\n",
       "      <td>0.623</td>\n",
       "      <td>0.7650</td>\n",
       "    </tr>\n",
       "    <tr>\n",
       "      <th>14997</th>\n",
       "      <td>1</td>\n",
       "      <td>True</td>\n",
       "      <td>04 16, 2018</td>\n",
       "      <td>A1M2J6NJU88MJG</td>\n",
       "      <td>Tison Reno</td>\n",
       "      <td>Got water in it after the first use. Shorted o...</td>\n",
       "      <td>Dont buy</td>\n",
       "      <td>1523836800</td>\n",
       "      <td>NaN</td>\n",
       "      <td>got water first use shorted second use</td>\n",
       "      <td>0.000</td>\n",
       "      <td>1.000</td>\n",
       "      <td>0.000</td>\n",
       "      <td>0.0000</td>\n",
       "    </tr>\n",
       "    <tr>\n",
       "      <th>14998</th>\n",
       "      <td>5</td>\n",
       "      <td>True</td>\n",
       "      <td>04 16, 2018</td>\n",
       "      <td>A18DEU5W93K1GX</td>\n",
       "      <td>Steve in VA</td>\n",
       "      <td>I like print vs digital scheduling.</td>\n",
       "      <td>Good for print followers</td>\n",
       "      <td>1523836800</td>\n",
       "      <td>NaN</td>\n",
       "      <td>like print v digital scheduling</td>\n",
       "      <td>0.000</td>\n",
       "      <td>0.615</td>\n",
       "      <td>0.385</td>\n",
       "      <td>0.3612</td>\n",
       "    </tr>\n",
       "    <tr>\n",
       "      <th>14999</th>\n",
       "      <td>4</td>\n",
       "      <td>True</td>\n",
       "      <td>04 15, 2018</td>\n",
       "      <td>A1OEPBZT2AD3YD</td>\n",
       "      <td>TK</td>\n",
       "      <td>This has been our lifesaver! Our 1 year old bo...</td>\n",
       "      <td>Lifesaver!</td>\n",
       "      <td>1523750400</td>\n",
       "      <td>NaN</td>\n",
       "      <td>lifesaver 1 year old boy handful bath stand wa...</td>\n",
       "      <td>0.000</td>\n",
       "      <td>0.765</td>\n",
       "      <td>0.235</td>\n",
       "      <td>0.8219</td>\n",
       "    </tr>\n",
       "  </tbody>\n",
       "</table>\n",
       "<p>15000 rows × 14 columns</p>\n",
       "</div>"
      ],
      "text/plain": [
       "       overall  verified   reviewTime      reviewerID        reviewerName  \\\n",
       "0            2     False  09 22, 2016  A1IDMI31WEANAF      Mackenzie Kent   \n",
       "1            1     False  09 18, 2016   A4BCEVVZ4Y3V3  Jonathan Christian   \n",
       "2            3      True  09 12, 2016  A2EZ9PY1IHHBX0     unpreparedtodie   \n",
       "3            5      True  03 02, 2017  A139PXTTC2LGHZ              Ashley   \n",
       "4            1      True  02 08, 2017  A3IB33V29XIL8O            Oghma_EM   \n",
       "...        ...       ...          ...             ...                 ...   \n",
       "14995        1      True  04 17, 2018   ADATAE3XW8VNV               alona   \n",
       "14996        5      True  04 17, 2018  A307KULAQ7O4QV              gsasse   \n",
       "14997        1      True  04 16, 2018  A1M2J6NJU88MJG          Tison Reno   \n",
       "14998        5      True  04 16, 2018  A18DEU5W93K1GX         Steve in VA   \n",
       "14999        4      True  04 15, 2018  A1OEPBZT2AD3YD                  TK   \n",
       "\n",
       "                                              reviewText  \\\n",
       "0      When it comes to a DM's screen, the space on t...   \n",
       "1      An Open Letter to GaleForce9*:\\n\\nYour unpaint...   \n",
       "2      Nice art, nice printing.  Why two panels are f...   \n",
       "3      Amazing buy! Bought it as a gift for our new d...   \n",
       "4      As my review of GF9's previous screens these w...   \n",
       "...                                                  ...   \n",
       "14995  Garbage.  Broke after 1 use.  Absolutely ridic...   \n",
       "14996  Our granddaughter loves these as part of her b...   \n",
       "14997  Got water in it after the first use. Shorted o...   \n",
       "14998                I like print vs digital scheduling.   \n",
       "14999  This has been our lifesaver! Our 1 year old bo...   \n",
       "\n",
       "                                                 summary  unixReviewTime  \\\n",
       "0      The fact that 50% of this space is wasted on a...      1474502400   \n",
       "1      Another worthless Dungeon Master's screen from...      1474156800   \n",
       "2                        pretty, but also pretty useless      1473638400   \n",
       "3                                             Five Stars      1488412800   \n",
       "4                                             Money trap      1486512000   \n",
       "...                                                  ...             ...   \n",
       "14995                                   Paid for garbage      1523923200   \n",
       "14996                                         Five Stars      1523923200   \n",
       "14997                                           Dont buy      1523836800   \n",
       "14998                           Good for print followers      1523836800   \n",
       "14999                                         Lifesaver!      1523750400   \n",
       "\n",
       "      image                                              Text1    neg    neu  \\\n",
       "0       NaN  come dm screen space screen absolute premium f...  0.310  0.646   \n",
       "1       NaN  open letter galeforce9 unpainted miniature bad...  0.204  0.544   \n",
       "2       NaN  nice art nice printing two panel filled genera...  0.191  0.578   \n",
       "3       NaN             amazing buy bought gift new dm perfect  0.000  0.278   \n",
       "4       NaN  review gf9s previous screen completely unneces...  0.370  0.630   \n",
       "...     ...                                                ...    ...    ...   \n",
       "14995   NaN  garbage broke 1 use absolutely ridiculous shre...  0.529  0.471   \n",
       "14996   NaN             granddaughter love part bath time play  0.000  0.377   \n",
       "14997   NaN             got water first use shorted second use  0.000  1.000   \n",
       "14998   NaN                    like print v digital scheduling  0.000  0.615   \n",
       "14999   NaN  lifesaver 1 year old boy handful bath stand wa...  0.000  0.765   \n",
       "\n",
       "         pos  compound  \n",
       "0      0.044   -0.9152  \n",
       "1      0.252    0.7020  \n",
       "2      0.231    0.6606  \n",
       "3      0.722    0.8860  \n",
       "4      0.000   -0.7063  \n",
       "...      ...       ...  \n",
       "14995  0.000   -0.8399  \n",
       "14996  0.623    0.7650  \n",
       "14997  0.000    0.0000  \n",
       "14998  0.385    0.3612  \n",
       "14999  0.235    0.8219  \n",
       "\n",
       "[15000 rows x 14 columns]"
      ]
     },
     "execution_count": 21,
     "metadata": {},
     "output_type": "execute_result"
    }
   ],
   "source": [
    "# Merge the sentiments back to the original dataframe\n",
    "\n",
    "df_all=pd.concat([df1.reset_index(drop=True), df1_sentiments], axis=1)\n",
    "df_all"
   ]
  },
  {
   "cell_type": "code",
   "execution_count": 22,
   "id": "39ec4b40",
   "metadata": {},
   "outputs": [
    {
     "data": {
      "text/plain": [
       "(15000, 14)"
      ]
     },
     "execution_count": 22,
     "metadata": {},
     "output_type": "execute_result"
    }
   ],
   "source": [
    "df_all.shape"
   ]
  },
  {
   "cell_type": "code",
   "execution_count": 23,
   "id": "26246a56",
   "metadata": {},
   "outputs": [
    {
     "data": {
      "text/html": [
       "<div>\n",
       "<style scoped>\n",
       "    .dataframe tbody tr th:only-of-type {\n",
       "        vertical-align: middle;\n",
       "    }\n",
       "\n",
       "    .dataframe tbody tr th {\n",
       "        vertical-align: top;\n",
       "    }\n",
       "\n",
       "    .dataframe thead th {\n",
       "        text-align: right;\n",
       "    }\n",
       "</style>\n",
       "<table border=\"1\" class=\"dataframe\">\n",
       "  <thead>\n",
       "    <tr style=\"text-align: right;\">\n",
       "      <th></th>\n",
       "      <th>overall</th>\n",
       "      <th>verified</th>\n",
       "      <th>reviewTime</th>\n",
       "      <th>reviewerID</th>\n",
       "      <th>reviewerName</th>\n",
       "      <th>reviewText</th>\n",
       "      <th>summary</th>\n",
       "      <th>unixReviewTime</th>\n",
       "      <th>image</th>\n",
       "      <th>Text1</th>\n",
       "      <th>neg</th>\n",
       "      <th>neu</th>\n",
       "      <th>pos</th>\n",
       "      <th>compound</th>\n",
       "      <th>sentiment</th>\n",
       "    </tr>\n",
       "  </thead>\n",
       "  <tbody>\n",
       "    <tr>\n",
       "      <th>0</th>\n",
       "      <td>2</td>\n",
       "      <td>False</td>\n",
       "      <td>09 22, 2016</td>\n",
       "      <td>A1IDMI31WEANAF</td>\n",
       "      <td>Mackenzie Kent</td>\n",
       "      <td>When it comes to a DM's screen, the space on t...</td>\n",
       "      <td>The fact that 50% of this space is wasted on a...</td>\n",
       "      <td>1474502400</td>\n",
       "      <td>NaN</td>\n",
       "      <td>come dm screen space screen absolute premium f...</td>\n",
       "      <td>0.310</td>\n",
       "      <td>0.646</td>\n",
       "      <td>0.044</td>\n",
       "      <td>-0.9152</td>\n",
       "      <td>Negative</td>\n",
       "    </tr>\n",
       "    <tr>\n",
       "      <th>1</th>\n",
       "      <td>1</td>\n",
       "      <td>False</td>\n",
       "      <td>09 18, 2016</td>\n",
       "      <td>A4BCEVVZ4Y3V3</td>\n",
       "      <td>Jonathan Christian</td>\n",
       "      <td>An Open Letter to GaleForce9*:\\n\\nYour unpaint...</td>\n",
       "      <td>Another worthless Dungeon Master's screen from...</td>\n",
       "      <td>1474156800</td>\n",
       "      <td>NaN</td>\n",
       "      <td>open letter galeforce9 unpainted miniature bad...</td>\n",
       "      <td>0.204</td>\n",
       "      <td>0.544</td>\n",
       "      <td>0.252</td>\n",
       "      <td>0.7020</td>\n",
       "      <td>Positive</td>\n",
       "    </tr>\n",
       "    <tr>\n",
       "      <th>2</th>\n",
       "      <td>3</td>\n",
       "      <td>True</td>\n",
       "      <td>09 12, 2016</td>\n",
       "      <td>A2EZ9PY1IHHBX0</td>\n",
       "      <td>unpreparedtodie</td>\n",
       "      <td>Nice art, nice printing.  Why two panels are f...</td>\n",
       "      <td>pretty, but also pretty useless</td>\n",
       "      <td>1473638400</td>\n",
       "      <td>NaN</td>\n",
       "      <td>nice art nice printing two panel filled genera...</td>\n",
       "      <td>0.191</td>\n",
       "      <td>0.578</td>\n",
       "      <td>0.231</td>\n",
       "      <td>0.6606</td>\n",
       "      <td>Positive</td>\n",
       "    </tr>\n",
       "    <tr>\n",
       "      <th>3</th>\n",
       "      <td>5</td>\n",
       "      <td>True</td>\n",
       "      <td>03 02, 2017</td>\n",
       "      <td>A139PXTTC2LGHZ</td>\n",
       "      <td>Ashley</td>\n",
       "      <td>Amazing buy! Bought it as a gift for our new d...</td>\n",
       "      <td>Five Stars</td>\n",
       "      <td>1488412800</td>\n",
       "      <td>NaN</td>\n",
       "      <td>amazing buy bought gift new dm perfect</td>\n",
       "      <td>0.000</td>\n",
       "      <td>0.278</td>\n",
       "      <td>0.722</td>\n",
       "      <td>0.8860</td>\n",
       "      <td>Positive</td>\n",
       "    </tr>\n",
       "    <tr>\n",
       "      <th>4</th>\n",
       "      <td>1</td>\n",
       "      <td>True</td>\n",
       "      <td>02 08, 2017</td>\n",
       "      <td>A3IB33V29XIL8O</td>\n",
       "      <td>Oghma_EM</td>\n",
       "      <td>As my review of GF9's previous screens these w...</td>\n",
       "      <td>Money trap</td>\n",
       "      <td>1486512000</td>\n",
       "      <td>NaN</td>\n",
       "      <td>review gf9s previous screen completely unneces...</td>\n",
       "      <td>0.370</td>\n",
       "      <td>0.630</td>\n",
       "      <td>0.000</td>\n",
       "      <td>-0.7063</td>\n",
       "      <td>Negative</td>\n",
       "    </tr>\n",
       "  </tbody>\n",
       "</table>\n",
       "</div>"
      ],
      "text/plain": [
       "   overall  verified   reviewTime      reviewerID        reviewerName  \\\n",
       "0        2     False  09 22, 2016  A1IDMI31WEANAF      Mackenzie Kent   \n",
       "1        1     False  09 18, 2016   A4BCEVVZ4Y3V3  Jonathan Christian   \n",
       "2        3      True  09 12, 2016  A2EZ9PY1IHHBX0     unpreparedtodie   \n",
       "3        5      True  03 02, 2017  A139PXTTC2LGHZ              Ashley   \n",
       "4        1      True  02 08, 2017  A3IB33V29XIL8O            Oghma_EM   \n",
       "\n",
       "                                          reviewText  \\\n",
       "0  When it comes to a DM's screen, the space on t...   \n",
       "1  An Open Letter to GaleForce9*:\\n\\nYour unpaint...   \n",
       "2  Nice art, nice printing.  Why two panels are f...   \n",
       "3  Amazing buy! Bought it as a gift for our new d...   \n",
       "4  As my review of GF9's previous screens these w...   \n",
       "\n",
       "                                             summary  unixReviewTime image  \\\n",
       "0  The fact that 50% of this space is wasted on a...      1474502400   NaN   \n",
       "1  Another worthless Dungeon Master's screen from...      1474156800   NaN   \n",
       "2                    pretty, but also pretty useless      1473638400   NaN   \n",
       "3                                         Five Stars      1488412800   NaN   \n",
       "4                                         Money trap      1486512000   NaN   \n",
       "\n",
       "                                               Text1    neg    neu    pos  \\\n",
       "0  come dm screen space screen absolute premium f...  0.310  0.646  0.044   \n",
       "1  open letter galeforce9 unpainted miniature bad...  0.204  0.544  0.252   \n",
       "2  nice art nice printing two panel filled genera...  0.191  0.578  0.231   \n",
       "3             amazing buy bought gift new dm perfect  0.000  0.278  0.722   \n",
       "4  review gf9s previous screen completely unneces...  0.370  0.630  0.000   \n",
       "\n",
       "   compound sentiment  \n",
       "0   -0.9152  Negative  \n",
       "1    0.7020  Positive  \n",
       "2    0.6606  Positive  \n",
       "3    0.8860  Positive  \n",
       "4   -0.7063  Negative  "
      ]
     },
     "execution_count": 23,
     "metadata": {},
     "output_type": "execute_result"
    }
   ],
   "source": [
    "# Convert the scores into positive and negative sentiments using a threshold of 0\n",
    "df_all['sentiment']=np.where(df_all['compound']>=0, 'Positive','Negative')\n",
    "df_all.head()"
   ]
  },
  {
   "cell_type": "code",
   "execution_count": 24,
   "id": "7af4a0ae",
   "metadata": {},
   "outputs": [
    {
     "data": {
      "text/plain": [
       "<AxesSubplot:>"
      ]
     },
     "execution_count": 24,
     "metadata": {},
     "output_type": "execute_result"
    },
    {
     "data": {
      "image/png": "[encoded data removed]",
      "text/plain": [
       "<Figure size 432x288 with 1 Axes>"
      ]
     },
     "metadata": {
      "needs_background": "light"
     },
     "output_type": "display_data"
    }
   ],
   "source": [
    "result=df_all['sentiment'].value_counts()\n",
    "result.plot(kind='bar', rot=0, color=['red','black'])"
   ]
  },
  {
   "cell_type": "code",
   "execution_count": 25,
   "id": "58635a16",
   "metadata": {},
   "outputs": [
    {
     "data": {
      "text/plain": [
       "Positive    14402\n",
       "Negative      598\n",
       "Name: sentiment, dtype: int64"
      ]
     },
     "execution_count": 25,
     "metadata": {},
     "output_type": "execute_result"
    }
   ],
   "source": [
    "df_all['sentiment'].value_counts()"
   ]
  },
  {
   "cell_type": "code",
   "execution_count": 26,
   "id": "b2646219",
   "metadata": {},
   "outputs": [
    {
     "data": {
      "text/plain": [
       "Positive    96.013333\n",
       "Negative     3.986667\n",
       "Name: sentiment, dtype: float64"
      ]
     },
     "execution_count": 26,
     "metadata": {},
     "output_type": "execute_result"
    }
   ],
   "source": [
    "df_all['sentiment'].value_counts(normalize=True) * 100"
   ]
  },
  {
   "cell_type": "markdown",
   "id": "2ac8b843",
   "metadata": {},
   "source": [
    "#### <font color='green'> KR : 96% of respondents gave positive responses based on the review text  </font>"
   ]
  },
  {
   "cell_type": "markdown",
   "id": "5a1880fa",
   "metadata": {},
   "source": [
    "### 5. Sentiment polarity"
   ]
  },
  {
   "cell_type": "code",
   "execution_count": 27,
   "id": "cc0af785",
   "metadata": {},
   "outputs": [],
   "source": [
    "polarity_score=[]\n",
    "for i in range (0, df_all.shape[0]):\n",
    "    score = TextBlob(df_all.iloc[i][9])\n",
    "    score1= score.sentiment[0]\n",
    "    polarity_score.append(score1)"
   ]
  },
  {
   "cell_type": "code",
   "execution_count": 28,
   "id": "061af097",
   "metadata": {},
   "outputs": [],
   "source": [
    "df_final=pd.concat([df_all, pd.Series(polarity_score)], axis=1)"
   ]
  },
  {
   "cell_type": "code",
   "execution_count": 29,
   "id": "c909e115",
   "metadata": {},
   "outputs": [
    {
     "data": {
      "text/html": [
       "<div>\n",
       "<style scoped>\n",
       "    .dataframe tbody tr th:only-of-type {\n",
       "        vertical-align: middle;\n",
       "    }\n",
       "\n",
       "    .dataframe tbody tr th {\n",
       "        vertical-align: top;\n",
       "    }\n",
       "\n",
       "    .dataframe thead th {\n",
       "        text-align: right;\n",
       "    }\n",
       "</style>\n",
       "<table border=\"1\" class=\"dataframe\">\n",
       "  <thead>\n",
       "    <tr style=\"text-align: right;\">\n",
       "      <th></th>\n",
       "      <th>overall</th>\n",
       "      <th>verified</th>\n",
       "      <th>reviewTime</th>\n",
       "      <th>reviewerID</th>\n",
       "      <th>reviewerName</th>\n",
       "      <th>reviewText</th>\n",
       "      <th>summary</th>\n",
       "      <th>unixReviewTime</th>\n",
       "      <th>image</th>\n",
       "      <th>Text1</th>\n",
       "      <th>neg</th>\n",
       "      <th>neu</th>\n",
       "      <th>pos</th>\n",
       "      <th>compound</th>\n",
       "      <th>sentiment</th>\n",
       "      <th>0</th>\n",
       "    </tr>\n",
       "  </thead>\n",
       "  <tbody>\n",
       "    <tr>\n",
       "      <th>0</th>\n",
       "      <td>2</td>\n",
       "      <td>False</td>\n",
       "      <td>09 22, 2016</td>\n",
       "      <td>A1IDMI31WEANAF</td>\n",
       "      <td>Mackenzie Kent</td>\n",
       "      <td>When it comes to a DM's screen, the space on t...</td>\n",
       "      <td>The fact that 50% of this space is wasted on a...</td>\n",
       "      <td>1474502400</td>\n",
       "      <td>NaN</td>\n",
       "      <td>come dm screen space screen absolute premium f...</td>\n",
       "      <td>0.310</td>\n",
       "      <td>0.646</td>\n",
       "      <td>0.044</td>\n",
       "      <td>-0.9152</td>\n",
       "      <td>Negative</td>\n",
       "      <td>-0.242857</td>\n",
       "    </tr>\n",
       "    <tr>\n",
       "      <th>1</th>\n",
       "      <td>1</td>\n",
       "      <td>False</td>\n",
       "      <td>09 18, 2016</td>\n",
       "      <td>A4BCEVVZ4Y3V3</td>\n",
       "      <td>Jonathan Christian</td>\n",
       "      <td>An Open Letter to GaleForce9*:\\n\\nYour unpaint...</td>\n",
       "      <td>Another worthless Dungeon Master's screen from...</td>\n",
       "      <td>1474156800</td>\n",
       "      <td>NaN</td>\n",
       "      <td>open letter galeforce9 unpainted miniature bad...</td>\n",
       "      <td>0.204</td>\n",
       "      <td>0.544</td>\n",
       "      <td>0.252</td>\n",
       "      <td>0.7020</td>\n",
       "      <td>Positive</td>\n",
       "      <td>-0.040608</td>\n",
       "    </tr>\n",
       "    <tr>\n",
       "      <th>2</th>\n",
       "      <td>3</td>\n",
       "      <td>True</td>\n",
       "      <td>09 12, 2016</td>\n",
       "      <td>A2EZ9PY1IHHBX0</td>\n",
       "      <td>unpreparedtodie</td>\n",
       "      <td>Nice art, nice printing.  Why two panels are f...</td>\n",
       "      <td>pretty, but also pretty useless</td>\n",
       "      <td>1473638400</td>\n",
       "      <td>NaN</td>\n",
       "      <td>nice art nice printing two panel filled genera...</td>\n",
       "      <td>0.191</td>\n",
       "      <td>0.578</td>\n",
       "      <td>0.231</td>\n",
       "      <td>0.6606</td>\n",
       "      <td>Positive</td>\n",
       "      <td>0.125457</td>\n",
       "    </tr>\n",
       "    <tr>\n",
       "      <th>3</th>\n",
       "      <td>5</td>\n",
       "      <td>True</td>\n",
       "      <td>03 02, 2017</td>\n",
       "      <td>A139PXTTC2LGHZ</td>\n",
       "      <td>Ashley</td>\n",
       "      <td>Amazing buy! Bought it as a gift for our new d...</td>\n",
       "      <td>Five Stars</td>\n",
       "      <td>1488412800</td>\n",
       "      <td>NaN</td>\n",
       "      <td>amazing buy bought gift new dm perfect</td>\n",
       "      <td>0.000</td>\n",
       "      <td>0.278</td>\n",
       "      <td>0.722</td>\n",
       "      <td>0.8860</td>\n",
       "      <td>Positive</td>\n",
       "      <td>0.578788</td>\n",
       "    </tr>\n",
       "    <tr>\n",
       "      <th>4</th>\n",
       "      <td>1</td>\n",
       "      <td>True</td>\n",
       "      <td>02 08, 2017</td>\n",
       "      <td>A3IB33V29XIL8O</td>\n",
       "      <td>Oghma_EM</td>\n",
       "      <td>As my review of GF9's previous screens these w...</td>\n",
       "      <td>Money trap</td>\n",
       "      <td>1486512000</td>\n",
       "      <td>NaN</td>\n",
       "      <td>review gf9s previous screen completely unneces...</td>\n",
       "      <td>0.370</td>\n",
       "      <td>0.630</td>\n",
       "      <td>0.000</td>\n",
       "      <td>-0.7063</td>\n",
       "      <td>Negative</td>\n",
       "      <td>-0.316667</td>\n",
       "    </tr>\n",
       "  </tbody>\n",
       "</table>\n",
       "</div>"
      ],
      "text/plain": [
       "   overall  verified   reviewTime      reviewerID        reviewerName  \\\n",
       "0        2     False  09 22, 2016  A1IDMI31WEANAF      Mackenzie Kent   \n",
       "1        1     False  09 18, 2016   A4BCEVVZ4Y3V3  Jonathan Christian   \n",
       "2        3      True  09 12, 2016  A2EZ9PY1IHHBX0     unpreparedtodie   \n",
       "3        5      True  03 02, 2017  A139PXTTC2LGHZ              Ashley   \n",
       "4        1      True  02 08, 2017  A3IB33V29XIL8O            Oghma_EM   \n",
       "\n",
       "                                          reviewText  \\\n",
       "0  When it comes to a DM's screen, the space on t...   \n",
       "1  An Open Letter to GaleForce9*:\\n\\nYour unpaint...   \n",
       "2  Nice art, nice printing.  Why two panels are f...   \n",
       "3  Amazing buy! Bought it as a gift for our new d...   \n",
       "4  As my review of GF9's previous screens these w...   \n",
       "\n",
       "                                             summary  unixReviewTime image  \\\n",
       "0  The fact that 50% of this space is wasted on a...      1474502400   NaN   \n",
       "1  Another worthless Dungeon Master's screen from...      1474156800   NaN   \n",
       "2                    pretty, but also pretty useless      1473638400   NaN   \n",
       "3                                         Five Stars      1488412800   NaN   \n",
       "4                                         Money trap      1486512000   NaN   \n",
       "\n",
       "                                               Text1    neg    neu    pos  \\\n",
       "0  come dm screen space screen absolute premium f...  0.310  0.646  0.044   \n",
       "1  open letter galeforce9 unpainted miniature bad...  0.204  0.544  0.252   \n",
       "2  nice art nice printing two panel filled genera...  0.191  0.578  0.231   \n",
       "3             amazing buy bought gift new dm perfect  0.000  0.278  0.722   \n",
       "4  review gf9s previous screen completely unneces...  0.370  0.630  0.000   \n",
       "\n",
       "   compound sentiment         0  \n",
       "0   -0.9152  Negative -0.242857  \n",
       "1    0.7020  Positive -0.040608  \n",
       "2    0.6606  Positive  0.125457  \n",
       "3    0.8860  Positive  0.578788  \n",
       "4   -0.7063  Negative -0.316667  "
      ]
     },
     "execution_count": 29,
     "metadata": {},
     "output_type": "execute_result"
    }
   ],
   "source": [
    "df_final.head()"
   ]
  },
  {
   "cell_type": "code",
   "execution_count": 30,
   "id": "69ba4f68",
   "metadata": {},
   "outputs": [],
   "source": [
    "df_final.rename(columns={df_final.columns[15]:\"polarity\"}, inplace=True)"
   ]
  },
  {
   "cell_type": "code",
   "execution_count": 31,
   "id": "5a5ebb14",
   "metadata": {},
   "outputs": [
    {
     "data": {
      "text/html": [
       "<div>\n",
       "<style scoped>\n",
       "    .dataframe tbody tr th:only-of-type {\n",
       "        vertical-align: middle;\n",
       "    }\n",
       "\n",
       "    .dataframe tbody tr th {\n",
       "        vertical-align: top;\n",
       "    }\n",
       "\n",
       "    .dataframe thead th {\n",
       "        text-align: right;\n",
       "    }\n",
       "</style>\n",
       "<table border=\"1\" class=\"dataframe\">\n",
       "  <thead>\n",
       "    <tr style=\"text-align: right;\">\n",
       "      <th></th>\n",
       "      <th>overall</th>\n",
       "      <th>verified</th>\n",
       "      <th>reviewTime</th>\n",
       "      <th>reviewerID</th>\n",
       "      <th>reviewerName</th>\n",
       "      <th>reviewText</th>\n",
       "      <th>summary</th>\n",
       "      <th>unixReviewTime</th>\n",
       "      <th>image</th>\n",
       "      <th>Text1</th>\n",
       "      <th>neg</th>\n",
       "      <th>neu</th>\n",
       "      <th>pos</th>\n",
       "      <th>compound</th>\n",
       "      <th>sentiment</th>\n",
       "      <th>polarity</th>\n",
       "    </tr>\n",
       "  </thead>\n",
       "  <tbody>\n",
       "    <tr>\n",
       "      <th>5659</th>\n",
       "      <td>4</td>\n",
       "      <td>True</td>\n",
       "      <td>05 28, 2015</td>\n",
       "      <td>A1X1C57YHYC6FL</td>\n",
       "      <td>Jesse</td>\n",
       "      <td>Awesome</td>\n",
       "      <td>Four Stars</td>\n",
       "      <td>1432771200</td>\n",
       "      <td>NaN</td>\n",
       "      <td>awesome</td>\n",
       "      <td>0.0</td>\n",
       "      <td>0.000</td>\n",
       "      <td>1.000</td>\n",
       "      <td>0.6249</td>\n",
       "      <td>Positive</td>\n",
       "      <td>1.0</td>\n",
       "    </tr>\n",
       "    <tr>\n",
       "      <th>11500</th>\n",
       "      <td>5</td>\n",
       "      <td>True</td>\n",
       "      <td>02 24, 2016</td>\n",
       "      <td>A3UXPTXWEQLLQN</td>\n",
       "      <td>Pamela</td>\n",
       "      <td>Excellent way to start conversations</td>\n",
       "      <td>Five Stars</td>\n",
       "      <td>1456272000</td>\n",
       "      <td>NaN</td>\n",
       "      <td>excellent way start conversation</td>\n",
       "      <td>0.0</td>\n",
       "      <td>0.448</td>\n",
       "      <td>0.552</td>\n",
       "      <td>0.5719</td>\n",
       "      <td>Positive</td>\n",
       "      <td>1.0</td>\n",
       "    </tr>\n",
       "    <tr>\n",
       "      <th>5433</th>\n",
       "      <td>5</td>\n",
       "      <td>True</td>\n",
       "      <td>10 4, 2015</td>\n",
       "      <td>A2GYC7J0YYDF5H</td>\n",
       "      <td>Jacob</td>\n",
       "      <td>Awesome</td>\n",
       "      <td>Five Stars</td>\n",
       "      <td>1443916800</td>\n",
       "      <td>NaN</td>\n",
       "      <td>awesome</td>\n",
       "      <td>0.0</td>\n",
       "      <td>0.000</td>\n",
       "      <td>1.000</td>\n",
       "      <td>0.6249</td>\n",
       "      <td>Positive</td>\n",
       "      <td>1.0</td>\n",
       "    </tr>\n",
       "    <tr>\n",
       "      <th>9272</th>\n",
       "      <td>5</td>\n",
       "      <td>True</td>\n",
       "      <td>12 25, 2014</td>\n",
       "      <td>A3HRVTVNPFSC1Y</td>\n",
       "      <td>larissa roark</td>\n",
       "      <td>Just as picture. Perfect gift !</td>\n",
       "      <td>Perfect gift!</td>\n",
       "      <td>1419465600</td>\n",
       "      <td>NaN</td>\n",
       "      <td>picture perfect gift</td>\n",
       "      <td>0.0</td>\n",
       "      <td>0.132</td>\n",
       "      <td>0.868</td>\n",
       "      <td>0.7650</td>\n",
       "      <td>Positive</td>\n",
       "      <td>1.0</td>\n",
       "    </tr>\n",
       "    <tr>\n",
       "      <th>13623</th>\n",
       "      <td>5</td>\n",
       "      <td>True</td>\n",
       "      <td>05 19, 2014</td>\n",
       "      <td>AUKHNCZUUFCUS</td>\n",
       "      <td>Nancy H Chace</td>\n",
       "      <td>It was perfect since she picked it out herself...</td>\n",
       "      <td>The eleven-year old loves it.</td>\n",
       "      <td>1400457600</td>\n",
       "      <td>NaN</td>\n",
       "      <td>perfect since picked lettering queen purchased...</td>\n",
       "      <td>0.0</td>\n",
       "      <td>0.537</td>\n",
       "      <td>0.463</td>\n",
       "      <td>0.7845</td>\n",
       "      <td>Positive</td>\n",
       "      <td>1.0</td>\n",
       "    </tr>\n",
       "  </tbody>\n",
       "</table>\n",
       "</div>"
      ],
      "text/plain": [
       "       overall  verified   reviewTime      reviewerID   reviewerName  \\\n",
       "5659         4      True  05 28, 2015  A1X1C57YHYC6FL          Jesse   \n",
       "11500        5      True  02 24, 2016  A3UXPTXWEQLLQN         Pamela   \n",
       "5433         5      True   10 4, 2015  A2GYC7J0YYDF5H          Jacob   \n",
       "9272         5      True  12 25, 2014  A3HRVTVNPFSC1Y  larissa roark   \n",
       "13623        5      True  05 19, 2014   AUKHNCZUUFCUS  Nancy H Chace   \n",
       "\n",
       "                                              reviewText  \\\n",
       "5659                                             Awesome   \n",
       "11500               Excellent way to start conversations   \n",
       "5433                                             Awesome   \n",
       "9272                     Just as picture. Perfect gift !   \n",
       "13623  It was perfect since she picked it out herself...   \n",
       "\n",
       "                             summary  unixReviewTime image  \\\n",
       "5659                      Four Stars      1432771200   NaN   \n",
       "11500                     Five Stars      1456272000   NaN   \n",
       "5433                      Five Stars      1443916800   NaN   \n",
       "9272                   Perfect gift!      1419465600   NaN   \n",
       "13623  The eleven-year old loves it.      1400457600   NaN   \n",
       "\n",
       "                                                   Text1  neg    neu    pos  \\\n",
       "5659                                             awesome  0.0  0.000  1.000   \n",
       "11500                   excellent way start conversation  0.0  0.448  0.552   \n",
       "5433                                             awesome  0.0  0.000  1.000   \n",
       "9272                                picture perfect gift  0.0  0.132  0.868   \n",
       "13623  perfect since picked lettering queen purchased...  0.0  0.537  0.463   \n",
       "\n",
       "       compound sentiment  polarity  \n",
       "5659     0.6249  Positive       1.0  \n",
       "11500    0.5719  Positive       1.0  \n",
       "5433     0.6249  Positive       1.0  \n",
       "9272     0.7650  Positive       1.0  \n",
       "13623    0.7845  Positive       1.0  "
      ]
     },
     "execution_count": 31,
     "metadata": {},
     "output_type": "execute_result"
    }
   ],
   "source": [
    "df_final.sort_values(by='polarity', ascending=False).head()"
   ]
  },
  {
   "cell_type": "code",
   "execution_count": 34,
   "id": "8fcd6666",
   "metadata": {},
   "outputs": [
    {
     "data": {
      "text/plain": [
       "5659                                               Awesome\n",
       "11500                 Excellent way to start conversations\n",
       "5433                                               Awesome\n",
       "9272                       Just as picture. Perfect gift !\n",
       "13623    It was perfect since she picked it out herself...\n",
       "9269                                            Awesome!!!\n",
       "5420                                       excellent trade\n",
       "13607                                           Awesome!!!\n",
       "3222                                          Perfect give\n",
       "9514                    Perfect condition when it arrived!\n",
       "13605    Came in excellent shape. Haven't opened-as is ...\n",
       "8902                                               Awesome\n",
       "14734                             Perfect to go with book.\n",
       "524                         Perfect, just what I ordered!!\n",
       "8928                      Had the best season with my elf.\n",
       "9505           He is perfect we can't wait to get started.\n",
       "14761                                       it was perfect\n",
       "14763                                          The Best!!!\n",
       "496      Excellent activity for teaching self-managemen...\n",
       "8961                                               Perfect\n",
       "Name: reviewText, dtype: object"
      ]
     },
     "execution_count": 34,
     "metadata": {},
     "output_type": "execute_result"
    }
   ],
   "source": [
    "# Top 20 positive reviews\n",
    "df_top20_pos= df_final.sort_values(by='polarity', ascending=False).iloc[:20,5]\n",
    "df_top20_pos"
   ]
  },
  {
   "cell_type": "code",
   "execution_count": 35,
   "id": "e4874530",
   "metadata": {},
   "outputs": [
    {
     "data": {
      "text/plain": [
       "3359                some of the suggestions are disgusting\n",
       "2043         Kids did not like it.  Thought it was boring.\n",
       "8319     Awful. We did not receive what was advertised....\n",
       "208      BOOO  UNLES YOU ARE PATIENT KNOW HOW TO MEASUR...\n",
       "8758     I hate the holidays bcuz of the Elf, he was di...\n",
       "13181    I do not under stand how you keep score or rea...\n",
       "9143     Cliche and stupid. I should not drink and Amaz...\n",
       "9260                                          Just stupid.\n",
       "8398     I only recieved the book from this place when ...\n",
       "7988     Was the elf on the shelf but it didn't have th...\n",
       "12510    These stickers were not the same as the ones I...\n",
       "9511     I haven't even taken it out of the box yet but...\n",
       "526      Keeps clients engaged while helping them devel...\n",
       "14285    I like this product for my daughter. She is in...\n",
       "8860     She arrived today. I'm so disappointed in her ...\n",
       "9058     This toy is designed to desensitize youngsters...\n",
       "11971    Horrible and incomplete flash cards....DO NOT ...\n",
       "2147     This was a bit disappointing. My students find...\n",
       "174      I sent this product to my granddaughter. The p...\n",
       "13982    had no idea the extent you have to go through ...\n",
       "Name: reviewText, dtype: object"
      ]
     },
     "execution_count": 35,
     "metadata": {},
     "output_type": "execute_result"
    }
   ],
   "source": [
    "# Top 20 negative reviews\n",
    "df_top20_neg=df_final.sort_values(by='polarity', ascending=True).iloc[:20,5]\n",
    "df_top20_neg"
   ]
  },
  {
   "cell_type": "code",
   "execution_count": null,
   "id": "e2533b26",
   "metadata": {},
   "outputs": [],
   "source": []
  },
  {
   "cell_type": "code",
   "execution_count": null,
   "id": "369edb5c",
   "metadata": {},
   "outputs": [],
   "source": []
  }
 ],
 "metadata": {
  "kernelspec": {
   "display_name": "Python 3 (ipykernel)",
   "language": "python",
   "name": "python3"
  },
  "language_info": {
   "codemirror_mode": {
    "name": "ipython",
    "version": 3
   },
   "file_extension": ".py",
   "mimetype": "text/x-python",
   "name": "python",
   "nbconvert_exporter": "python",
   "pygments_lexer": "ipython3",
   "version": "3.9.12"
  }
 },
 "nbformat": 4,
 "nbformat_minor": 5
}
